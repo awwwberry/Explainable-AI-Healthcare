{
  "cells": [
    {
      "cell_type": "code",
      "execution_count": null,
      "metadata": {
        "colab": {
          "base_uri": "https://localhost:8080/"
        },
        "id": "ikRG5LkJeB6H",
        "outputId": "6629c6e9-0764-414e-8843-cfce541f6553"
      },
      "outputs": [
        {
          "output_type": "stream",
          "name": "stdout",
          "text": [
            "Mounted at /content/drive\n"
          ]
        }
      ],
      "source": [
        "from google.colab import drive\n",
        "drive.mount('/content/drive',force_remount=True)"
      ]
    },
    {
      "cell_type": "code",
      "execution_count": null,
      "metadata": {
        "colab": {
          "base_uri": "https://localhost:8080/",
          "height": 1000
        },
        "id": "7qZZHaHLeH1y",
        "outputId": "19765bf8-64d8-4dbf-e8bf-2b2bd8682793"
      },
      "outputs": [
        {
          "output_type": "stream",
          "name": "stdout",
          "text": [
            "Looking in indexes: https://pypi.org/simple, https://us-python.pkg.dev/colab-wheels/public/simple/\n",
            "Collecting interpret\n",
            "  Downloading interpret-0.3.0-py3-none-any.whl (1.4 kB)\n",
            "Collecting shap\n",
            "  Downloading shap-0.41.0-cp38-cp38-manylinux_2_12_x86_64.manylinux2010_x86_64.whl (575 kB)\n",
            "\u001b[K     |████████████████████████████████| 575 kB 4.5 MB/s \n",
            "\u001b[?25hCollecting interpret-core[dash,debug,decisiontree,ebm,lime,linear,notebook,plotly,required,sensitivity,shap,skoperules,treeinterpreter]>=0.3.0\n",
            "  Downloading interpret_core-0.3.0-py3-none-any.whl (8.9 MB)\n",
            "\u001b[K     |████████████████████████████████| 8.9 MB 6.4 MB/s \n",
            "\u001b[?25hCollecting lime>=0.1.1.33\n",
            "  Downloading lime-0.2.0.1.tar.gz (275 kB)\n",
            "\u001b[K     |████████████████████████████████| 275 kB 50.5 MB/s \n",
            "\u001b[?25hCollecting psutil>=5.6.2\n",
            "  Downloading psutil-5.9.4-cp36-abi3-manylinux_2_12_x86_64.manylinux2010_x86_64.manylinux_2_17_x86_64.manylinux2014_x86_64.whl (280 kB)\n",
            "\u001b[K     |████████████████████████████████| 280 kB 49.8 MB/s \n",
            "\u001b[?25hRequirement already satisfied: plotly>=3.8.1 in /usr/local/lib/python3.8/dist-packages (from interpret-core[dash,debug,decisiontree,ebm,lime,linear,notebook,plotly,required,sensitivity,shap,skoperules,treeinterpreter]>=0.3.0->interpret) (5.5.0)\n",
            "Requirement already satisfied: joblib>=0.11 in /usr/local/lib/python3.8/dist-packages (from interpret-core[dash,debug,decisiontree,ebm,lime,linear,notebook,plotly,required,sensitivity,shap,skoperules,treeinterpreter]>=0.3.0->interpret) (1.2.0)\n",
            "Requirement already satisfied: numpy>=1.11.1 in /usr/local/lib/python3.8/dist-packages (from interpret-core[dash,debug,decisiontree,ebm,lime,linear,notebook,plotly,required,sensitivity,shap,skoperules,treeinterpreter]>=0.3.0->interpret) (1.21.6)\n",
            "Requirement already satisfied: pandas>=0.19.2 in /usr/local/lib/python3.8/dist-packages (from interpret-core[dash,debug,decisiontree,ebm,lime,linear,notebook,plotly,required,sensitivity,shap,skoperules,treeinterpreter]>=0.3.0->interpret) (1.3.5)\n",
            "Requirement already satisfied: scikit-learn>=0.18.1 in /usr/local/lib/python3.8/dist-packages (from interpret-core[dash,debug,decisiontree,ebm,lime,linear,notebook,plotly,required,sensitivity,shap,skoperules,treeinterpreter]>=0.3.0->interpret) (1.0.2)\n",
            "Requirement already satisfied: scipy>=0.18.1 in /usr/local/lib/python3.8/dist-packages (from interpret-core[dash,debug,decisiontree,ebm,lime,linear,notebook,plotly,required,sensitivity,shap,skoperules,treeinterpreter]>=0.3.0->interpret) (1.7.3)\n",
            "Collecting skope-rules>=1.0.1\n",
            "  Downloading skope_rules-1.0.1-py3-none-any.whl (14 kB)\n",
            "Requirement already satisfied: dill>=0.2.5 in /usr/local/lib/python3.8/dist-packages (from interpret-core[dash,debug,decisiontree,ebm,lime,linear,notebook,plotly,required,sensitivity,shap,skoperules,treeinterpreter]>=0.3.0->interpret) (0.3.6)\n",
            "Requirement already satisfied: ipython>=7.4.0 in /usr/local/lib/python3.8/dist-packages (from interpret-core[dash,debug,decisiontree,ebm,lime,linear,notebook,plotly,required,sensitivity,shap,skoperules,treeinterpreter]>=0.3.0->interpret) (7.9.0)\n",
            "Requirement already satisfied: ipykernel>=5.1.0 in /usr/local/lib/python3.8/dist-packages (from interpret-core[dash,debug,decisiontree,ebm,lime,linear,notebook,plotly,required,sensitivity,shap,skoperules,treeinterpreter]>=0.3.0->interpret) (5.3.4)\n",
            "Collecting treeinterpreter>=0.2.2\n",
            "  Downloading treeinterpreter-0.2.3-py2.py3-none-any.whl (6.0 kB)\n",
            "Collecting SALib>=1.3.3\n",
            "  Downloading salib-1.4.6.1-py3-none-any.whl (758 kB)\n",
            "\u001b[K     |████████████████████████████████| 758 kB 45.3 MB/s \n",
            "\u001b[?25hCollecting dash-cytoscape>=0.1.1\n",
            "  Downloading dash_cytoscape-0.3.0-py3-none-any.whl (3.6 MB)\n",
            "\u001b[K     |████████████████████████████████| 3.6 MB 10.2 MB/s \n",
            "\u001b[?25hCollecting gevent>=1.3.6\n",
            "  Downloading gevent-22.10.2-cp38-cp38-manylinux_2_17_x86_64.manylinux2014_x86_64.whl (6.5 MB)\n",
            "\u001b[K     |████████████████████████████████| 6.5 MB 45.9 MB/s \n",
            "\u001b[?25hCollecting dash>=1.0.0\n",
            "  Downloading dash-2.7.1-py3-none-any.whl (9.9 MB)\n",
            "\u001b[K     |████████████████████████████████| 9.9 MB 47.6 MB/s \n",
            "\u001b[?25hRequirement already satisfied: requests>=2.19.0 in /usr/local/lib/python3.8/dist-packages (from interpret-core[dash,debug,decisiontree,ebm,lime,linear,notebook,plotly,required,sensitivity,shap,skoperules,treeinterpreter]>=0.3.0->interpret) (2.23.0)\n",
            "Collecting dash-table>=4.1.0\n",
            "  Downloading dash_table-5.0.0-py3-none-any.whl (3.9 kB)\n",
            "Requirement already satisfied: numba in /usr/local/lib/python3.8/dist-packages (from shap) (0.56.4)\n",
            "Requirement already satisfied: packaging>20.9 in /usr/local/lib/python3.8/dist-packages (from shap) (21.3)\n",
            "Collecting slicer==0.0.7\n",
            "  Downloading slicer-0.0.7-py3-none-any.whl (14 kB)\n",
            "Requirement already satisfied: cloudpickle in /usr/local/lib/python3.8/dist-packages (from shap) (1.5.0)\n",
            "Requirement already satisfied: tqdm>4.25.0 in /usr/local/lib/python3.8/dist-packages (from shap) (4.64.1)\n",
            "Requirement already satisfied: Flask>=1.0.4 in /usr/local/lib/python3.8/dist-packages (from dash>=1.0.0->interpret-core[dash,debug,decisiontree,ebm,lime,linear,notebook,plotly,required,sensitivity,shap,skoperules,treeinterpreter]>=0.3.0->interpret) (1.1.4)\n",
            "Collecting dash-core-components==2.0.0\n",
            "  Downloading dash_core_components-2.0.0-py3-none-any.whl (3.8 kB)\n",
            "Collecting dash-html-components==2.0.0\n",
            "  Downloading dash_html_components-2.0.0-py3-none-any.whl (4.1 kB)\n",
            "Requirement already satisfied: Werkzeug<2.0,>=0.15 in /usr/local/lib/python3.8/dist-packages (from Flask>=1.0.4->dash>=1.0.0->interpret-core[dash,debug,decisiontree,ebm,lime,linear,notebook,plotly,required,sensitivity,shap,skoperules,treeinterpreter]>=0.3.0->interpret) (1.0.1)\n",
            "Requirement already satisfied: itsdangerous<2.0,>=0.24 in /usr/local/lib/python3.8/dist-packages (from Flask>=1.0.4->dash>=1.0.0->interpret-core[dash,debug,decisiontree,ebm,lime,linear,notebook,plotly,required,sensitivity,shap,skoperules,treeinterpreter]>=0.3.0->interpret) (1.1.0)\n",
            "Requirement already satisfied: click<8.0,>=5.1 in /usr/local/lib/python3.8/dist-packages (from Flask>=1.0.4->dash>=1.0.0->interpret-core[dash,debug,decisiontree,ebm,lime,linear,notebook,plotly,required,sensitivity,shap,skoperules,treeinterpreter]>=0.3.0->interpret) (7.1.2)\n",
            "Requirement already satisfied: Jinja2<3.0,>=2.10.1 in /usr/local/lib/python3.8/dist-packages (from Flask>=1.0.4->dash>=1.0.0->interpret-core[dash,debug,decisiontree,ebm,lime,linear,notebook,plotly,required,sensitivity,shap,skoperules,treeinterpreter]>=0.3.0->interpret) (2.11.3)\n",
            "Collecting zope.interface\n",
            "  Downloading zope.interface-5.5.2-cp38-cp38-manylinux_2_5_x86_64.manylinux1_x86_64.manylinux_2_12_x86_64.manylinux2010_x86_64.whl (261 kB)\n",
            "\u001b[K     |████████████████████████████████| 261 kB 47.5 MB/s \n",
            "\u001b[?25hRequirement already satisfied: greenlet>=2.0.0 in /usr/local/lib/python3.8/dist-packages (from gevent>=1.3.6->interpret-core[dash,debug,decisiontree,ebm,lime,linear,notebook,plotly,required,sensitivity,shap,skoperules,treeinterpreter]>=0.3.0->interpret) (2.0.1)\n",
            "Requirement already satisfied: setuptools in /usr/local/lib/python3.8/dist-packages (from gevent>=1.3.6->interpret-core[dash,debug,decisiontree,ebm,lime,linear,notebook,plotly,required,sensitivity,shap,skoperules,treeinterpreter]>=0.3.0->interpret) (57.4.0)\n",
            "Collecting zope.event\n",
            "  Downloading zope.event-4.6-py2.py3-none-any.whl (6.8 kB)\n",
            "Requirement already satisfied: jupyter-client in /usr/local/lib/python3.8/dist-packages (from ipykernel>=5.1.0->interpret-core[dash,debug,decisiontree,ebm,lime,linear,notebook,plotly,required,sensitivity,shap,skoperules,treeinterpreter]>=0.3.0->interpret) (6.1.12)\n",
            "Requirement already satisfied: tornado>=4.2 in /usr/local/lib/python3.8/dist-packages (from ipykernel>=5.1.0->interpret-core[dash,debug,decisiontree,ebm,lime,linear,notebook,plotly,required,sensitivity,shap,skoperules,treeinterpreter]>=0.3.0->interpret) (6.0.4)\n",
            "Requirement already satisfied: traitlets>=4.1.0 in /usr/local/lib/python3.8/dist-packages (from ipykernel>=5.1.0->interpret-core[dash,debug,decisiontree,ebm,lime,linear,notebook,plotly,required,sensitivity,shap,skoperules,treeinterpreter]>=0.3.0->interpret) (5.7.1)\n",
            "Requirement already satisfied: pygments in /usr/local/lib/python3.8/dist-packages (from ipython>=7.4.0->interpret-core[dash,debug,decisiontree,ebm,lime,linear,notebook,plotly,required,sensitivity,shap,skoperules,treeinterpreter]>=0.3.0->interpret) (2.6.1)\n",
            "Requirement already satisfied: backcall in /usr/local/lib/python3.8/dist-packages (from ipython>=7.4.0->interpret-core[dash,debug,decisiontree,ebm,lime,linear,notebook,plotly,required,sensitivity,shap,skoperules,treeinterpreter]>=0.3.0->interpret) (0.2.0)\n",
            "Requirement already satisfied: pickleshare in /usr/local/lib/python3.8/dist-packages (from ipython>=7.4.0->interpret-core[dash,debug,decisiontree,ebm,lime,linear,notebook,plotly,required,sensitivity,shap,skoperules,treeinterpreter]>=0.3.0->interpret) (0.7.5)\n",
            "Requirement already satisfied: pexpect in /usr/local/lib/python3.8/dist-packages (from ipython>=7.4.0->interpret-core[dash,debug,decisiontree,ebm,lime,linear,notebook,plotly,required,sensitivity,shap,skoperules,treeinterpreter]>=0.3.0->interpret) (4.8.0)\n",
            "Requirement already satisfied: decorator in /usr/local/lib/python3.8/dist-packages (from ipython>=7.4.0->interpret-core[dash,debug,decisiontree,ebm,lime,linear,notebook,plotly,required,sensitivity,shap,skoperules,treeinterpreter]>=0.3.0->interpret) (4.4.2)\n",
            "Collecting jedi>=0.10\n",
            "  Downloading jedi-0.18.2-py2.py3-none-any.whl (1.6 MB)\n",
            "\u001b[K     |████████████████████████████████| 1.6 MB 11.5 MB/s \n",
            "\u001b[?25hRequirement already satisfied: prompt-toolkit<2.1.0,>=2.0.0 in /usr/local/lib/python3.8/dist-packages (from ipython>=7.4.0->interpret-core[dash,debug,decisiontree,ebm,lime,linear,notebook,plotly,required,sensitivity,shap,skoperules,treeinterpreter]>=0.3.0->interpret) (2.0.10)\n",
            "Requirement already satisfied: parso<0.9.0,>=0.8.0 in /usr/local/lib/python3.8/dist-packages (from jedi>=0.10->ipython>=7.4.0->interpret-core[dash,debug,decisiontree,ebm,lime,linear,notebook,plotly,required,sensitivity,shap,skoperules,treeinterpreter]>=0.3.0->interpret) (0.8.3)\n",
            "Requirement already satisfied: MarkupSafe>=0.23 in /usr/local/lib/python3.8/dist-packages (from Jinja2<3.0,>=2.10.1->Flask>=1.0.4->dash>=1.0.0->interpret-core[dash,debug,decisiontree,ebm,lime,linear,notebook,plotly,required,sensitivity,shap,skoperules,treeinterpreter]>=0.3.0->interpret) (2.0.1)\n",
            "Requirement already satisfied: matplotlib in /usr/local/lib/python3.8/dist-packages (from lime>=0.1.1.33->interpret-core[dash,debug,decisiontree,ebm,lime,linear,notebook,plotly,required,sensitivity,shap,skoperules,treeinterpreter]>=0.3.0->interpret) (3.2.2)\n",
            "Requirement already satisfied: scikit-image>=0.12 in /usr/local/lib/python3.8/dist-packages (from lime>=0.1.1.33->interpret-core[dash,debug,decisiontree,ebm,lime,linear,notebook,plotly,required,sensitivity,shap,skoperules,treeinterpreter]>=0.3.0->interpret) (0.18.3)\n",
            "Requirement already satisfied: pyparsing!=3.0.5,>=2.0.2 in /usr/local/lib/python3.8/dist-packages (from packaging>20.9->shap) (3.0.9)\n",
            "Requirement already satisfied: python-dateutil>=2.7.3 in /usr/local/lib/python3.8/dist-packages (from pandas>=0.19.2->interpret-core[dash,debug,decisiontree,ebm,lime,linear,notebook,plotly,required,sensitivity,shap,skoperules,treeinterpreter]>=0.3.0->interpret) (2.8.2)\n",
            "Requirement already satisfied: pytz>=2017.3 in /usr/local/lib/python3.8/dist-packages (from pandas>=0.19.2->interpret-core[dash,debug,decisiontree,ebm,lime,linear,notebook,plotly,required,sensitivity,shap,skoperules,treeinterpreter]>=0.3.0->interpret) (2022.6)\n",
            "Requirement already satisfied: tenacity>=6.2.0 in /usr/local/lib/python3.8/dist-packages (from plotly>=3.8.1->interpret-core[dash,debug,decisiontree,ebm,lime,linear,notebook,plotly,required,sensitivity,shap,skoperules,treeinterpreter]>=0.3.0->interpret) (8.1.0)\n",
            "Requirement already satisfied: six in /usr/local/lib/python3.8/dist-packages (from plotly>=3.8.1->interpret-core[dash,debug,decisiontree,ebm,lime,linear,notebook,plotly,required,sensitivity,shap,skoperules,treeinterpreter]>=0.3.0->interpret) (1.15.0)\n",
            "Requirement already satisfied: wcwidth in /usr/local/lib/python3.8/dist-packages (from prompt-toolkit<2.1.0,>=2.0.0->ipython>=7.4.0->interpret-core[dash,debug,decisiontree,ebm,lime,linear,notebook,plotly,required,sensitivity,shap,skoperules,treeinterpreter]>=0.3.0->interpret) (0.2.5)\n",
            "Requirement already satisfied: urllib3!=1.25.0,!=1.25.1,<1.26,>=1.21.1 in /usr/local/lib/python3.8/dist-packages (from requests>=2.19.0->interpret-core[dash,debug,decisiontree,ebm,lime,linear,notebook,plotly,required,sensitivity,shap,skoperules,treeinterpreter]>=0.3.0->interpret) (1.24.3)\n",
            "Requirement already satisfied: certifi>=2017.4.17 in /usr/local/lib/python3.8/dist-packages (from requests>=2.19.0->interpret-core[dash,debug,decisiontree,ebm,lime,linear,notebook,plotly,required,sensitivity,shap,skoperules,treeinterpreter]>=0.3.0->interpret) (2022.12.7)\n",
            "Requirement already satisfied: chardet<4,>=3.0.2 in /usr/local/lib/python3.8/dist-packages (from requests>=2.19.0->interpret-core[dash,debug,decisiontree,ebm,lime,linear,notebook,plotly,required,sensitivity,shap,skoperules,treeinterpreter]>=0.3.0->interpret) (3.0.4)\n",
            "Requirement already satisfied: idna<3,>=2.5 in /usr/local/lib/python3.8/dist-packages (from requests>=2.19.0->interpret-core[dash,debug,decisiontree,ebm,lime,linear,notebook,plotly,required,sensitivity,shap,skoperules,treeinterpreter]>=0.3.0->interpret) (2.10)\n",
            "Collecting multiprocess\n",
            "  Downloading multiprocess-0.70.14-py38-none-any.whl (132 kB)\n",
            "\u001b[K     |████████████████████████████████| 132 kB 65.1 MB/s \n",
            "\u001b[?25hRequirement already satisfied: cycler>=0.10 in /usr/local/lib/python3.8/dist-packages (from matplotlib->lime>=0.1.1.33->interpret-core[dash,debug,decisiontree,ebm,lime,linear,notebook,plotly,required,sensitivity,shap,skoperules,treeinterpreter]>=0.3.0->interpret) (0.11.0)\n",
            "Requirement already satisfied: kiwisolver>=1.0.1 in /usr/local/lib/python3.8/dist-packages (from matplotlib->lime>=0.1.1.33->interpret-core[dash,debug,decisiontree,ebm,lime,linear,notebook,plotly,required,sensitivity,shap,skoperules,treeinterpreter]>=0.3.0->interpret) (1.4.4)\n",
            "Requirement already satisfied: imageio>=2.3.0 in /usr/local/lib/python3.8/dist-packages (from scikit-image>=0.12->lime>=0.1.1.33->interpret-core[dash,debug,decisiontree,ebm,lime,linear,notebook,plotly,required,sensitivity,shap,skoperules,treeinterpreter]>=0.3.0->interpret) (2.9.0)\n",
            "Requirement already satisfied: pillow!=7.1.0,!=7.1.1,>=4.3.0 in /usr/local/lib/python3.8/dist-packages (from scikit-image>=0.12->lime>=0.1.1.33->interpret-core[dash,debug,decisiontree,ebm,lime,linear,notebook,plotly,required,sensitivity,shap,skoperules,treeinterpreter]>=0.3.0->interpret) (7.1.2)\n",
            "Requirement already satisfied: PyWavelets>=1.1.1 in /usr/local/lib/python3.8/dist-packages (from scikit-image>=0.12->lime>=0.1.1.33->interpret-core[dash,debug,decisiontree,ebm,lime,linear,notebook,plotly,required,sensitivity,shap,skoperules,treeinterpreter]>=0.3.0->interpret) (1.4.1)\n",
            "Requirement already satisfied: networkx>=2.0 in /usr/local/lib/python3.8/dist-packages (from scikit-image>=0.12->lime>=0.1.1.33->interpret-core[dash,debug,decisiontree,ebm,lime,linear,notebook,plotly,required,sensitivity,shap,skoperules,treeinterpreter]>=0.3.0->interpret) (2.8.8)\n",
            "Requirement already satisfied: tifffile>=2019.7.26 in /usr/local/lib/python3.8/dist-packages (from scikit-image>=0.12->lime>=0.1.1.33->interpret-core[dash,debug,decisiontree,ebm,lime,linear,notebook,plotly,required,sensitivity,shap,skoperules,treeinterpreter]>=0.3.0->interpret) (2022.10.10)\n",
            "Requirement already satisfied: threadpoolctl>=2.0.0 in /usr/local/lib/python3.8/dist-packages (from scikit-learn>=0.18.1->interpret-core[dash,debug,decisiontree,ebm,lime,linear,notebook,plotly,required,sensitivity,shap,skoperules,treeinterpreter]>=0.3.0->interpret) (3.1.0)\n",
            "Requirement already satisfied: pyzmq>=13 in /usr/local/lib/python3.8/dist-packages (from jupyter-client->ipykernel>=5.1.0->interpret-core[dash,debug,decisiontree,ebm,lime,linear,notebook,plotly,required,sensitivity,shap,skoperules,treeinterpreter]>=0.3.0->interpret) (23.2.1)\n",
            "Requirement already satisfied: jupyter-core>=4.6.0 in /usr/local/lib/python3.8/dist-packages (from jupyter-client->ipykernel>=5.1.0->interpret-core[dash,debug,decisiontree,ebm,lime,linear,notebook,plotly,required,sensitivity,shap,skoperules,treeinterpreter]>=0.3.0->interpret) (5.1.0)\n",
            "Requirement already satisfied: platformdirs>=2.5 in /usr/local/lib/python3.8/dist-packages (from jupyter-core>=4.6.0->jupyter-client->ipykernel>=5.1.0->interpret-core[dash,debug,decisiontree,ebm,lime,linear,notebook,plotly,required,sensitivity,shap,skoperules,treeinterpreter]>=0.3.0->interpret) (2.6.0)\n",
            "Requirement already satisfied: importlib-metadata in /usr/local/lib/python3.8/dist-packages (from numba->shap) (5.1.0)\n",
            "Requirement already satisfied: llvmlite<0.40,>=0.39.0dev0 in /usr/local/lib/python3.8/dist-packages (from numba->shap) (0.39.1)\n",
            "Requirement already satisfied: zipp>=0.5 in /usr/local/lib/python3.8/dist-packages (from importlib-metadata->numba->shap) (3.11.0)\n",
            "Requirement already satisfied: ptyprocess>=0.5 in /usr/local/lib/python3.8/dist-packages (from pexpect->ipython>=7.4.0->interpret-core[dash,debug,decisiontree,ebm,lime,linear,notebook,plotly,required,sensitivity,shap,skoperules,treeinterpreter]>=0.3.0->interpret) (0.7.0)\n",
            "Building wheels for collected packages: lime\n",
            "  Building wheel for lime (setup.py) ... \u001b[?25l\u001b[?25hdone\n",
            "  Created wheel for lime: filename=lime-0.2.0.1-py3-none-any.whl size=283857 sha256=050a094c4be2b79d25a08fd3f3e820107d2615787b8f742dbb2568f992e55a28\n",
            "  Stored in directory: /root/.cache/pip/wheels/e6/a6/20/cc1e293fcdb67ede666fed293cb895395e7ecceb4467779546\n",
            "Successfully built lime\n",
            "Installing collected packages: jedi, dash-table, dash-html-components, dash-core-components, zope.interface, zope.event, slicer, multiprocess, dash, treeinterpreter, skope-rules, shap, SALib, psutil, lime, interpret-core, gevent, dash-cytoscape, interpret\n",
            "  Attempting uninstall: psutil\n",
            "    Found existing installation: psutil 5.4.8\n",
            "    Uninstalling psutil-5.4.8:\n",
            "      Successfully uninstalled psutil-5.4.8\n",
            "Successfully installed SALib-1.4.6.1 dash-2.7.1 dash-core-components-2.0.0 dash-cytoscape-0.3.0 dash-html-components-2.0.0 dash-table-5.0.0 gevent-22.10.2 interpret-0.3.0 interpret-core-0.3.0 jedi-0.18.2 lime-0.2.0.1 multiprocess-0.70.14 psutil-5.9.4 shap-0.41.0 skope-rules-1.0.1 slicer-0.0.7 treeinterpreter-0.2.3 zope.event-4.6 zope.interface-5.5.2\n"
          ]
        },
        {
          "output_type": "display_data",
          "data": {
            "application/vnd.colab-display-data+json": {
              "pip_warning": {
                "packages": [
                  "psutil"
                ]
              }
            }
          },
          "metadata": {}
        }
      ],
      "source": [
        "!pip install interpret shap"
      ]
    },
    {
      "cell_type": "code",
      "execution_count": null,
      "metadata": {
        "id": "UrsGG_r3eKbd"
      },
      "outputs": [],
      "source": [
        "import pickle\n",
        "\n",
        "import numpy as np\n",
        "import pandas as pd\n",
        "import matplotlib\n",
        "import matplotlib.pyplot as plt\n",
        "import seaborn as sns\n",
        "import scipy.stats as ss\n",
        "import xgboost\n",
        "\n",
        "import shap\n",
        "from shap import TreeExplainer\n",
        "\n",
        "from interpret.glassbox import ExplainableBoostingClassifier\n",
        "\n",
        "import sklearn\n",
        "from sklearn.ensemble import RandomForestClassifier\n",
        "from sklearn.tree import DecisionTreeClassifier\n",
        "from sklearn.neural_network import MLPClassifier\n",
        "from sklearn.svm import SVC\n",
        "\n",
        "from sklearn.feature_selection import SequentialFeatureSelector, mutual_info_classif\n",
        "from sklearn.metrics import accuracy_score, f1_score, confusion_matrix, classification_report, make_scorer\n",
        "from sklearn.model_selection import GridSearchCV, KFold, RandomizedSearchCV, train_test_split\n",
        "\n",
        "pd.pandas.set_option('display.max_columns',None)"
      ]
    },
    {
      "cell_type": "code",
      "execution_count": null,
      "metadata": {
        "id": "P2R03lTreMvW"
      },
      "outputs": [],
      "source": [
        "data = pd.read_csv('/content/drive/My Drive/data01.csv')\n",
        "data.columns = data.columns.str.replace(' ', '_')\n",
        "\n",
        "# We don't need the group and ID in our model\n",
        "data = data.drop(columns=['group', 'ID'], axis=1)\n"
      ]
    },
    {
      "cell_type": "code",
      "execution_count": null,
      "metadata": {
        "id": "QN59HKqSeP29"
      },
      "outputs": [],
      "source": [
        "categorical_features = [features for features in data.columns if len(data[features].unique()) <= 5]\n",
        "numerical_features = data.columns[~data.columns.isin(categorical_features)].tolist()\n",
        "for feat in categorical_features:\n",
        "    data[feat] = data[feat].astype('category')\n",
        "for i in numerical_features:\n",
        "    if data[i].isnull().any():\n",
        "        data[i]=data[i].fillna(data[i].mean())\n",
        "data = data.dropna(how='any', axis=0)"
      ]
    },
    {
      "cell_type": "code",
      "execution_count": null,
      "metadata": {
        "id": "UMwh9OCNesaE"
      },
      "outputs": [],
      "source": [
        "\n",
        "# Getting our features and target to build the model\n",
        "features = data.drop(columns='outcome').copy()\n",
        "target = data['outcome'].copy()\n",
        "\n",
        "x_train , x_test , y_train , y_test = train_test_split(features,target,stratify=target,test_size=0.2,random_state=2)\n",
        "#x_train, y_train=resample(x_train,y_train)"
      ]
    },
    {
      "cell_type": "code",
      "execution_count": null,
      "metadata": {
        "id": "xxgmUzpzkJFq"
      },
      "outputs": [],
      "source": [
        "def resample(x_train,y_train):\n",
        "  #print(len(x_train))\n",
        "  positive_data=pd.DataFrame(columns=x_train.columns)\n",
        "  for i in range(len(y_train)):\n",
        "    if y_train.iloc[i]==1:\n",
        "      positive_data=positive_data.append(x_train.iloc[i])\n",
        "\n",
        "  total_positive_samples_train=len(positive_data)\n",
        "  #print('total positive samples in the train set',total_positive_samples_train)\n",
        "  total_negative_samples_train=len(y_train)-total_positive_samples_train\n",
        "  #print('total negative samples in the train set',total_negative_samples_train)\n",
        "  samples_needed_to_balance=total_negative_samples_train - total_positive_samples_train\n",
        "  extra_positive_sampled_data=positive_data.sample(n=samples_needed_to_balance,replace=True)\n",
        "  final_x_train=pd.concat([x_train,extra_positive_sampled_data],axis=0)\n",
        "\n",
        "  extra_target=pd.Series([1 for i in range(samples_needed_to_balance)])\n",
        "  final_y_train=y_train.append(extra_target)\n",
        "\n",
        "  return final_x_train,final_y_train"
      ]
    },
    {
      "cell_type": "markdown",
      "metadata": {
        "id": "bdCiIuak2ysv"
      },
      "source": [
        "# Class-weighted SVM (Baseline)"
      ]
    },
    {
      "cell_type": "code",
      "execution_count": null,
      "metadata": {
        "colab": {
          "base_uri": "https://localhost:8080/"
        },
        "id": "InJoEsDQ2zpT",
        "outputId": "4798d4a2-f1f6-4d85-d001-63a08a81afeb"
      },
      "outputs": [
        {
          "name": "stdout",
          "output_type": "stream",
          "text": [
            "Fitting 5 folds for each of 160 candidates, totalling 800 fits\n",
            "\n",
            "               precision    recall  f1-score   support\n",
            "\n",
            "         0.0       0.94      0.44      0.60       204\n",
            "         1.0       0.19      0.81      0.30        32\n",
            "\n",
            "    accuracy                           0.49       236\n",
            "   macro avg       0.56      0.63      0.45       236\n",
            "weighted avg       0.84      0.49      0.56       236\n",
            "\n"
          ]
        },
        {
          "data": {
            "text/plain": [
              "{'C': 50, 'class_weight': {0: 0.10526315789473684, 1: 0.8947368421052632}}"
            ]
          },
          "execution_count": 8,
          "metadata": {},
          "output_type": "execute_result"
        }
      ],
      "source": [
        "model = SVC(kernel='rbf')\n",
        "\n",
        "params = dict(\n",
        "    C=[0.5, 1, 2, 3, 5, 10, 25, 50],\n",
        "    class_weight=[{0: p, 1: 1-p} for p in np.linspace(0, 1, 20)]\n",
        ")\n",
        "svm_rscv = GridSearchCV(model, params, scoring='f1', n_jobs=-1, verbose=1)\n",
        "\n",
        "svm_rscv.fit(x_train, y_train)\n",
        "preds = svm_rscv.predict(x_test)\n",
        "print(\"\\n\", classification_report(y_test, preds, zero_division=0))\n",
        "svm_rscv.best_params_"
      ]
    },
    {
      "cell_type": "code",
      "execution_count": null,
      "metadata": {
        "colab": {
          "base_uri": "https://localhost:8080/"
        },
        "id": "iUuNl_Gzu9GO",
        "outputId": "972797ee-7a46-4cbd-c05e-4b5c70ee3662"
      },
      "outputs": [
        {
          "name": "stdout",
          "output_type": "stream",
          "text": [
            "Fitting 5 folds for each of 100 candidates, totalling 500 fits\n",
            "\n",
            "               precision    recall  f1-score   support\n",
            "\n",
            "         0.0       0.90      0.79      0.84       204\n",
            "         1.0       0.25      0.44      0.31        32\n",
            "\n",
            "    accuracy                           0.74       236\n",
            "   macro avg       0.57      0.61      0.58       236\n",
            "weighted avg       0.81      0.74      0.77       236\n",
            "\n"
          ]
        },
        {
          "data": {
            "text/plain": [
              "{'C': 41.019951879346024,\n",
              " 'class_weight': {0: 0.15789473684210525, 1: 0.8421052631578947}}"
            ]
          },
          "execution_count": 9,
          "metadata": {},
          "output_type": "execute_result"
        }
      ],
      "source": [
        "model = SVC(kernel='rbf')\n",
        "\n",
        "params = dict(\n",
        "    C=ss.uniform(0, 50),\n",
        "    class_weight=[{0: p, 1: 1-p} for p in np.linspace(0, 1, 20)]\n",
        ")\n",
        "svm_rscv = RandomizedSearchCV(model, params, scoring='f1', n_iter=100, n_jobs=-1, verbose=1)\n",
        "\n",
        "svm_rscv.fit(x_train, y_train)\n",
        "preds = svm_rscv.predict(x_test)\n",
        "print(\"\\n\", classification_report(y_test, preds, zero_division=0))\n",
        "svm_rscv.best_params_"
      ]
    },
    {
      "cell_type": "markdown",
      "metadata": {
        "id": "41hWaqlS4qFz"
      },
      "source": [
        "# MLP (Baseline)"
      ]
    },
    {
      "cell_type": "code",
      "execution_count": null,
      "metadata": {
        "colab": {
          "base_uri": "https://localhost:8080/"
        },
        "id": "SzguP9Ae4ooT",
        "outputId": "08d82209-b6f4-43ab-cde2-299a74fc5260"
      },
      "outputs": [
        {
          "name": "stdout",
          "output_type": "stream",
          "text": [
            "\n",
            "               precision    recall  f1-score   support\n",
            "\n",
            "         0.0       0.88      0.98      0.93       204\n",
            "         1.0       0.50      0.16      0.24        32\n",
            "\n",
            "    accuracy                           0.86       236\n",
            "   macro avg       0.69      0.57      0.58       236\n",
            "weighted avg       0.83      0.86      0.83       236\n",
            "\n"
          ]
        }
      ],
      "source": [
        "nn = MLPClassifier((20, 20), batch_size=32, learning_rate='adaptive')\n",
        "\n",
        "nn.fit(x_train, y_train)\n",
        "preds = nn.predict(x_test)\n",
        "print(\"\\n\", classification_report(y_test, preds, zero_division=0))"
      ]
    },
    {
      "cell_type": "code",
      "execution_count": null,
      "metadata": {
        "colab": {
          "base_uri": "https://localhost:8080/"
        },
        "id": "8UuugNjSruRu",
        "outputId": "2a481d02-2662-4df4-88f7-0653d87f2b84"
      },
      "outputs": [
        {
          "name": "stdout",
          "output_type": "stream",
          "text": [
            "Fitting 5 folds for each of 100 candidates, totalling 500 fits\n",
            "\n",
            "               precision    recall  f1-score   support\n",
            "\n",
            "         0.0       0.86      1.00      0.93       204\n",
            "         1.0       0.00      0.00      0.00        32\n",
            "\n",
            "    accuracy                           0.86       236\n",
            "   macro avg       0.43      0.50      0.46       236\n",
            "weighted avg       0.75      0.86      0.80       236\n",
            "\n"
          ]
        },
        {
          "data": {
            "text/plain": [
              "{'hidden_layer_sizes': (52, 8, 1)}"
            ]
          },
          "execution_count": 11,
          "metadata": {},
          "output_type": "execute_result"
        }
      ],
      "source": [
        "model = MLPClassifier(batch_size=32, learning_rate='adaptive')\n",
        "\n",
        "params = dict(\n",
        "    hidden_layer_sizes=[(ss.randint.rvs(0, 100, 1), ss.randint.rvs(0, 100, 1), ss.randint.rvs(0, 100, 1))] * 100\n",
        ")\n",
        "nn_rscv = GridSearchCV(model, params, scoring='f1', n_jobs=-1, verbose=1)\n",
        "\n",
        "nn_rscv.fit(x_train, y_train)\n",
        "preds = nn_rscv.predict(x_test)\n",
        "print(\"\\n\", classification_report(y_test, preds, zero_division=0))\n",
        "nn_rscv.best_params_"
      ]
    },
    {
      "cell_type": "markdown",
      "metadata": {
        "id": "4GCpKmEeNBgD"
      },
      "source": [
        "# RFC (Baseline)"
      ]
    },
    {
      "cell_type": "code",
      "execution_count": null,
      "metadata": {
        "colab": {
          "base_uri": "https://localhost:8080/"
        },
        "id": "e7C9XQWhNMhn",
        "outputId": "be3367c9-ede3-4a9f-a83c-55d1d09f197e"
      },
      "outputs": [
        {
          "name": "stdout",
          "output_type": "stream",
          "text": [
            "\n",
            "               precision    recall  f1-score   support\n",
            "\n",
            "         0.0       0.89      1.00      0.94       204\n",
            "         1.0       0.88      0.22      0.35        32\n",
            "\n",
            "    accuracy                           0.89       236\n",
            "   macro avg       0.88      0.61      0.64       236\n",
            "weighted avg       0.89      0.89      0.86       236\n",
            "\n"
          ]
        }
      ],
      "source": [
        "# Prepares a default instance of the random forest regressor\n",
        "model = RandomForestClassifier(n_estimators=120)\n",
        "# Fits the model on the data\n",
        "\n",
        "model.fit(x_train, y_train)\n",
        "preds=model.predict(x_test)\n",
        "print(\"\\n\", classification_report(y_test, preds, zero_division=0))"
      ]
    },
    {
      "cell_type": "code",
      "execution_count": null,
      "metadata": {
        "colab": {
          "base_uri": "https://localhost:8080/"
        },
        "id": "l-CetGw0qO54",
        "outputId": "e7c29bcf-441c-4208-d298-bbc55fc93135"
      },
      "outputs": [
        {
          "name": "stdout",
          "output_type": "stream",
          "text": [
            "Fitting 5 folds for each of 100 candidates, totalling 500 fits\n",
            "\n",
            "               precision    recall  f1-score   support\n",
            "\n",
            "         0.0       0.89      0.99      0.94       204\n",
            "         1.0       0.78      0.22      0.34        32\n",
            "\n",
            "    accuracy                           0.89       236\n",
            "   macro avg       0.83      0.60      0.64       236\n",
            "weighted avg       0.87      0.89      0.86       236\n",
            "\n"
          ]
        },
        {
          "data": {
            "text/plain": [
              "{'max_depth': 14, 'max_samples': 0.8045353601780687, 'n_estimators': 80}"
            ]
          },
          "execution_count": 13,
          "metadata": {},
          "output_type": "execute_result"
        }
      ],
      "source": [
        "model = RandomForestClassifier()\n",
        "\n",
        "params = dict(\n",
        "    n_estimators=ss.randint(50, 300),\n",
        "    max_depth=ss.randint(5, 20),\n",
        "    max_samples=ss.uniform(0, 1),\n",
        ")\n",
        "rf_rscv = RandomizedSearchCV(model, params, scoring='f1', n_iter=100, n_jobs=-1, verbose=1)\n",
        "rf_rscv.fit(x_train, y_train)\n",
        "preds = rf_rscv.predict(x_test)\n",
        "print(\"\\n\", classification_report(y_test, preds, zero_division=0))\n",
        "rf_rscv.best_params_"
      ]
    },
    {
      "cell_type": "markdown",
      "metadata": {
        "id": "-oU9OyFqTjZT"
      },
      "source": [
        "# Decision Tree Baseline"
      ]
    },
    {
      "cell_type": "code",
      "execution_count": null,
      "metadata": {
        "colab": {
          "base_uri": "https://localhost:8080/"
        },
        "id": "6FU3FEbnTPvS",
        "outputId": "cf8ae35b-a3a1-4693-e531-6e543174b210"
      },
      "outputs": [
        {
          "name": "stdout",
          "output_type": "stream",
          "text": [
            "\n",
            "               precision    recall  f1-score   support\n",
            "\n",
            "         0.0       0.92      0.89      0.90       204\n",
            "         1.0       0.41      0.50      0.45        32\n",
            "\n",
            "    accuracy                           0.83       236\n",
            "   macro avg       0.66      0.69      0.68       236\n",
            "weighted avg       0.85      0.83      0.84       236\n",
            "\n"
          ]
        }
      ],
      "source": [
        "clf = DecisionTreeClassifier()\n",
        "clf = clf.fit(x_train, y_train)\n",
        "preds=clf.predict(x_test)\n",
        "print(\"\\n\", classification_report(y_test, preds, zero_division=0))"
      ]
    },
    {
      "cell_type": "code",
      "execution_count": null,
      "metadata": {
        "colab": {
          "base_uri": "https://localhost:8080/"
        },
        "id": "yrDkdKoWTX0z",
        "outputId": "59af0568-7c6f-4c75-e037-46eb4e6955dc"
      },
      "outputs": [
        {
          "name": "stdout",
          "output_type": "stream",
          "text": [
            "Fitting 5 folds for each of 100 candidates, totalling 500 fits\n",
            "\n",
            "               precision    recall  f1-score   support\n",
            "\n",
            "         0.0       0.92      0.88      0.90       204\n",
            "         1.0       0.40      0.50      0.44        32\n",
            "\n",
            "    accuracy                           0.83       236\n",
            "   macro avg       0.66      0.69      0.67       236\n",
            "weighted avg       0.85      0.83      0.84       236\n",
            "\n"
          ]
        },
        {
          "data": {
            "text/plain": [
              "{'max_depth': 18}"
            ]
          },
          "execution_count": 15,
          "metadata": {},
          "output_type": "execute_result"
        }
      ],
      "source": [
        "model = DecisionTreeClassifier()\n",
        "params = dict(\n",
        "    max_depth=ss.randint(5, 20),\n",
        ")\n",
        "dt_rscv = RandomizedSearchCV(model, params, scoring='f1', n_iter=100, n_jobs=-1, verbose=1)\n",
        "dt_rscv.fit(x_train, y_train)\n",
        "preds = dt_rscv.predict(x_test)\n",
        "print(\"\\n\", classification_report(y_test, preds, zero_division=0))\n",
        "dt_rscv.best_params_"
      ]
    },
    {
      "cell_type": "markdown",
      "metadata": {
        "id": "ji49qbUx2wKL"
      },
      "source": [
        "# EBM"
      ]
    },
    {
      "cell_type": "code",
      "execution_count": null,
      "metadata": {
        "id": "wyF9cz-7F_fy"
      },
      "outputs": [],
      "source": [
        "seed=42\n",
        "model = ExplainableBoostingClassifier(interactions=20,learning_rate=0.01,early_stopping_rounds=100,max_rounds=100000,random_state=seed)\n",
        "model.fit(x_train, y_train)\n",
        "preds = model.predict(x_test).astype(float)"
      ]
    },
    {
      "cell_type": "code",
      "execution_count": null,
      "metadata": {
        "colab": {
          "background_save": true,
          "base_uri": "https://localhost:8080/"
        },
        "id": "QYCUzUs4e1P6",
        "outputId": "25e21d4f-2afe-41a8-e48d-9c77fb49d094"
      },
      "outputs": [
        {
          "name": "stdout",
          "output_type": "stream",
          "text": [
            "Fitting 5 folds for each of 100 candidates, totalling 500 fits\n"
          ]
        },
        {
          "name": "stderr",
          "output_type": "stream",
          "text": [
            "One or more of the test scores are non-finite: [nan nan nan nan nan nan nan nan nan nan nan nan nan nan nan nan nan nan\n",
            " nan nan nan nan nan nan nan nan nan nan nan nan nan nan nan nan nan nan\n",
            " nan nan nan nan nan nan nan nan nan nan nan nan nan nan nan nan nan nan\n",
            " nan nan nan nan nan nan nan nan nan nan nan nan nan nan nan nan nan nan\n",
            " nan nan nan nan nan nan nan nan nan nan nan nan nan nan nan nan nan nan\n",
            " nan nan nan nan nan nan nan nan nan nan]\n"
          ]
        },
        {
          "name": "stdout",
          "output_type": "stream",
          "text": [
            "\n",
            "               precision    recall  f1-score   support\n",
            "\n",
            "         0.0       0.90      0.98      0.93       204\n",
            "         1.0       0.64      0.28      0.39        32\n",
            "\n",
            "    accuracy                           0.88       236\n",
            "   macro avg       0.77      0.63      0.66       236\n",
            "weighted avg       0.86      0.88      0.86       236\n",
            "\n"
          ]
        },
        {
          "data": {
            "text/plain": [
              "{'early_stopping_rounds': 29,\n",
              " 'learning_rate': 0.01814231861856681,\n",
              " 'max_rounds': 1471}"
            ]
          },
          "execution_count": 17,
          "metadata": {},
          "output_type": "execute_result"
        }
      ],
      "source": [
        "model = ExplainableBoostingClassifier(interactions=10) #interactions=20,learning_rate=0.01,early_stopping_rounds=100,max_rounds=100000,random_state=seed)\n",
        "params = dict(\n",
        "    learning_rate=ss.uniform(0.001, 0.1),\n",
        "    early_stopping_rounds=ss.randint(10, 100),\n",
        "    max_rounds=ss.randint(100, 10000),\n",
        ")\n",
        "ebm_rscv = RandomizedSearchCV(model, params, scoring='f1', n_iter=100, n_jobs=-1, verbose=1)\n",
        "ebm_rscv.fit(x_train, y_train)\n",
        "preds = ebm_rscv.predict(x_test).astype(float)\n",
        "print(\"\\n\", classification_report(y_test, preds, zero_division=0))\n",
        "ebm_rscv.best_params_"
      ]
    },
    {
      "cell_type": "markdown",
      "metadata": {
        "id": "IdE77msulbfe"
      },
      "source": [
        "Result of explainable boosting machine with raw features"
      ]
    },
    {
      "cell_type": "code",
      "execution_count": null,
      "metadata": {
        "colab": {
          "background_save": true
        },
        "id": "LJY_w3URgfvy",
        "outputId": "043d8748-aef6-4856-9b65-6b5fd61e8ad3"
      },
      "outputs": [
        {
          "name": "stdout",
          "output_type": "stream",
          "text": [
            "\n",
            "               precision    recall  f1-score   support\n",
            "\n",
            "         0.0       0.90      0.98      0.93       204\n",
            "         1.0       0.64      0.28      0.39        32\n",
            "\n",
            "    accuracy                           0.88       236\n",
            "   macro avg       0.77      0.63      0.66       236\n",
            "weighted avg       0.86      0.88      0.86       236\n",
            "\n"
          ]
        }
      ],
      "source": [
        "from sklearn.metrics import classification_report\n",
        "print(\"\\n\", classification_report(y_test, preds, zero_division=0))"
      ]
    },
    {
      "cell_type": "markdown",
      "metadata": {
        "id": "2Cm3SGSxPHsE"
      },
      "source": [
        "# Extracting features from EBM for all data "
      ]
    },
    {
      "cell_type": "code",
      "execution_count": null,
      "metadata": {
        "colab": {
          "background_save": true
        },
        "id": "Z2uwC06IPB52",
        "outputId": "888adb4d-f888-4e94-9288-69b7ad07a170"
      },
      "outputs": [
        {
          "data": {
            "text/plain": [
              "ExplainableBoostingClassifier(early_stopping_rounds=29,\n",
              "                              learning_rate=0.01814231861856681,\n",
              "                              max_rounds=1471)"
            ]
          },
          "execution_count": 19,
          "metadata": {},
          "output_type": "execute_result"
        }
      ],
      "source": [
        "seed=42\n",
        "#model = ExplainableBoostingClassifier(interactions=20,learning_rate=0.01,early_stopping_rounds=100,max_rounds=100000,random_state=seed)\n",
        "model = ExplainableBoostingClassifier(**ebm_rscv.best_params_)\n",
        "model.fit(features,target)"
      ]
    },
    {
      "cell_type": "code",
      "execution_count": null,
      "metadata": {
        "colab": {
          "background_save": true
        },
        "id": "sJ0SOoxpfxEV"
      },
      "outputs": [],
      "source": [
        "combined_feature_scores=[]\n",
        "scores=[]\n",
        "ebm_local = model.explain_local(features)\n",
        "y=target.to_numpy()\n",
        "for i in range(len(features)):\n",
        "  raw_feature=list(features.iloc[i].to_numpy())\n",
        "  sc=ebm_local.data(key=i)['scores']\n",
        "  \n",
        "  combined_feature_score=raw_feature+sc + [y[i]]\n",
        "  score=sc + [y[i]]\n",
        " \n",
        "  combined_feature_scores.append(combined_feature_score)\n",
        "  scores.append(score)\n",
        "  "
      ]
    },
    {
      "cell_type": "code",
      "execution_count": null,
      "metadata": {
        "colab": {
          "background_save": true
        },
        "id": "gas6msjgkNFP"
      },
      "outputs": [],
      "source": [
        "combined_feature_scores=np.array(combined_feature_scores)\n",
        "scores=np.array(scores)"
      ]
    },
    {
      "cell_type": "markdown",
      "metadata": {
        "id": "jH2EXivN4J-a"
      },
      "source": [
        "# Using Feature Importance"
      ]
    },
    {
      "cell_type": "markdown",
      "metadata": {
        "id": "d3esRukT-bCV"
      },
      "source": [
        "## Results using both main feature values and feature importance scores as features"
      ]
    },
    {
      "cell_type": "code",
      "execution_count": null,
      "metadata": {
        "colab": {
          "background_save": true
        },
        "id": "rXvak1EJjyU9"
      },
      "outputs": [],
      "source": [
        "features=combined_feature_scores[:,:-1]\n",
        "target=combined_feature_scores[:,-1]\n",
        "x_train , x_test , y_train , y_test = train_test_split(features,target,stratify=target,test_size=0.2,random_state=2)"
      ]
    },
    {
      "cell_type": "markdown",
      "metadata": {
        "id": "XTcD_POLTtwT"
      },
      "source": [
        "### Decision Tree"
      ]
    },
    {
      "cell_type": "code",
      "execution_count": null,
      "metadata": {
        "colab": {
          "background_save": true
        },
        "id": "hX5mHgp5Tx62",
        "outputId": "1eb825c0-696e-47d7-c403-abb378501a61"
      },
      "outputs": [
        {
          "name": "stdout",
          "output_type": "stream",
          "text": [
            "\n",
            "               precision    recall  f1-score   support\n",
            "\n",
            "         0.0       0.92      0.92      0.92       204\n",
            "         1.0       0.48      0.50      0.49        32\n",
            "\n",
            "    accuracy                           0.86       236\n",
            "   macro avg       0.70      0.71      0.71       236\n",
            "weighted avg       0.86      0.86      0.86       236\n",
            "\n"
          ]
        }
      ],
      "source": [
        "clf = DecisionTreeClassifier()\n",
        "clf = clf.fit(x_train, y_train)\n",
        "preds = clf.predict(x_test)\n",
        "print(\"\\n\", classification_report(y_test, preds, zero_division=0))"
      ]
    },
    {
      "cell_type": "markdown",
      "metadata": {
        "id": "AaF67peqlBSu"
      },
      "source": [
        "### RFC"
      ]
    },
    {
      "cell_type": "code",
      "execution_count": null,
      "metadata": {
        "colab": {
          "background_save": true
        },
        "id": "EfUWUqmcjm39",
        "outputId": "cd4beef9-117a-4eea-9191-c88bab3435da"
      },
      "outputs": [
        {
          "name": "stdout",
          "output_type": "stream",
          "text": [
            "\n",
            "               precision    recall  f1-score   support\n",
            "\n",
            "         0.0       0.91      0.99      0.95       204\n",
            "         1.0       0.85      0.34      0.49        32\n",
            "\n",
            "    accuracy                           0.90       236\n",
            "   macro avg       0.88      0.67      0.72       236\n",
            "weighted avg       0.90      0.90      0.88       236\n",
            "\n"
          ]
        }
      ],
      "source": [
        "# Prepares a default instance of the random forest regressor\n",
        "model = RandomForestClassifier(n_estimators=120)\n",
        "# Fits the model on the data\n",
        "model.fit(x_train, y_train)\n",
        "preds=model.predict(x_test)\n",
        "print(\"\\n\", classification_report(y_test, preds, zero_division=0))"
      ]
    },
    {
      "cell_type": "markdown",
      "metadata": {
        "id": "FXVwGUAv-p82"
      },
      "source": [
        "### SVM"
      ]
    },
    {
      "cell_type": "code",
      "execution_count": null,
      "metadata": {
        "colab": {
          "background_save": true
        },
        "id": "vKcLlrmo-pRY",
        "outputId": "5a0d7709-b000-4a16-b5cb-c8c376214002"
      },
      "outputs": [
        {
          "name": "stdout",
          "output_type": "stream",
          "text": [
            "Fitting 5 folds for each of 160 candidates, totalling 800 fits\n",
            "\n",
            "               precision    recall  f1-score   support\n",
            "\n",
            "         0.0       0.94      0.44      0.60       204\n",
            "         1.0       0.19      0.81      0.30        32\n",
            "\n",
            "    accuracy                           0.49       236\n",
            "   macro avg       0.56      0.63      0.45       236\n",
            "weighted avg       0.84      0.49      0.56       236\n",
            "\n"
          ]
        }
      ],
      "source": [
        "model = SVC(kernel='rbf')\n",
        "\n",
        "params = dict(\n",
        "    C=[0.5, 1, 2, 3, 5, 10, 25, 50],\n",
        "    class_weight=[{0: p, 1: 1-p} for p in np.linspace(0, 1, 20)]\n",
        ")\n",
        "rscv = GridSearchCV(model, params, scoring='f1', n_jobs=-1, verbose=1)\n",
        "rscv.fit(x_train, y_train)\n",
        "preds = rscv.predict(x_test)\n",
        "print(\"\\n\", classification_report(y_test, preds, zero_division=0))"
      ]
    },
    {
      "cell_type": "markdown",
      "metadata": {
        "id": "Nuh7KZjI-wBe"
      },
      "source": [
        "### MLP"
      ]
    },
    {
      "cell_type": "code",
      "execution_count": null,
      "metadata": {
        "colab": {
          "background_save": true
        },
        "id": "1SSu9iTc-vkl",
        "outputId": "68ce15e7-3979-4ab2-d52b-7b10113bfacb"
      },
      "outputs": [
        {
          "name": "stdout",
          "output_type": "stream",
          "text": [
            "\n",
            "               precision    recall  f1-score   support\n",
            "\n",
            "         0.0       0.89      0.93      0.91       204\n",
            "         1.0       0.35      0.25      0.29        32\n",
            "\n",
            "    accuracy                           0.83       236\n",
            "   macro avg       0.62      0.59      0.60       236\n",
            "weighted avg       0.81      0.83      0.82       236\n",
            "\n"
          ]
        }
      ],
      "source": [
        "nn = MLPClassifier((20, 20), batch_size=32, learning_rate='adaptive')\n",
        "nn.fit(x_train, y_train)\n",
        "preds = nn.predict(x_test)\n",
        "print(\"\\n\", classification_report(y_test, preds, zero_division=0))"
      ]
    },
    {
      "cell_type": "markdown",
      "metadata": {
        "id": "iVRQDzoSk8YE"
      },
      "source": [
        "## Result using only feature importance scores as features"
      ]
    },
    {
      "cell_type": "code",
      "execution_count": null,
      "metadata": {
        "colab": {
          "background_save": true
        },
        "id": "QpPjY4Takne7"
      },
      "outputs": [],
      "source": [
        "features=scores[:,:-1]\n",
        "target=scores[:,-1]\n",
        "x_train , x_test , y_train , y_test = train_test_split(features,target,stratify=target,test_size=0.2,random_state=2)"
      ]
    },
    {
      "cell_type": "markdown",
      "metadata": {
        "id": "Ydd-OhWgZ1cH"
      },
      "source": [
        "### Decision Tree"
      ]
    },
    {
      "cell_type": "code",
      "execution_count": null,
      "metadata": {
        "colab": {
          "background_save": true
        },
        "id": "BfWnFX1ZZ5v0",
        "outputId": "3b9b6ae0-206b-4c78-ee7b-1e9022f76b54"
      },
      "outputs": [
        {
          "name": "stdout",
          "output_type": "stream",
          "text": [
            "\n",
            "               precision    recall  f1-score   support\n",
            "\n",
            "         0.0       0.92      0.94      0.93       204\n",
            "         1.0       0.56      0.47      0.51        32\n",
            "\n",
            "    accuracy                           0.88       236\n",
            "   macro avg       0.74      0.70      0.72       236\n",
            "weighted avg       0.87      0.88      0.87       236\n",
            "\n"
          ]
        }
      ],
      "source": [
        "clf = DecisionTreeClassifier()\n",
        "clf = clf.fit(x_train, y_train)\n",
        "preds = clf.predict(x_test)\n",
        "print(\"\\n\", classification_report(y_test, preds, zero_division=0))"
      ]
    },
    {
      "cell_type": "markdown",
      "metadata": {
        "id": "p0W0s0lO-WES"
      },
      "source": [
        "### RFC"
      ]
    },
    {
      "cell_type": "code",
      "execution_count": null,
      "metadata": {
        "colab": {
          "background_save": true
        },
        "id": "hZjv0ZLKkpg6",
        "outputId": "99d6d61b-9929-4c06-b489-dda0f87d1226"
      },
      "outputs": [
        {
          "name": "stdout",
          "output_type": "stream",
          "text": [
            "\n",
            "               precision    recall  f1-score   support\n",
            "\n",
            "         0.0       0.91      0.99      0.95       204\n",
            "         1.0       0.85      0.34      0.49        32\n",
            "\n",
            "    accuracy                           0.90       236\n",
            "   macro avg       0.88      0.67      0.72       236\n",
            "weighted avg       0.90      0.90      0.88       236\n",
            "\n"
          ]
        }
      ],
      "source": [
        "# Prepares a default instance of the random forest regressor\n",
        "model = RandomForestClassifier(n_estimators=120)\n",
        "# Fits the model on the data\n",
        "model.fit(x_train, y_train)\n",
        "preds=model.predict(x_test)\n",
        "print(\"\\n\", classification_report(y_test, preds, zero_division=0))"
      ]
    },
    {
      "cell_type": "markdown",
      "metadata": {
        "id": "NaRTp12x4Pab"
      },
      "source": [
        "### Class-weighted SVM"
      ]
    },
    {
      "cell_type": "code",
      "execution_count": null,
      "metadata": {
        "colab": {
          "background_save": true
        },
        "id": "WrcLGfw54HE6",
        "outputId": "412d7095-ec3b-4144-bdab-c5431e0f5a3e"
      },
      "outputs": [
        {
          "name": "stdout",
          "output_type": "stream",
          "text": [
            "Fitting 5 folds for each of 160 candidates, totalling 800 fits\n",
            "\n",
            "               precision    recall  f1-score   support\n",
            "\n",
            "         0.0       0.98      0.98      0.98       204\n",
            "         1.0       0.84      0.84      0.84        32\n",
            "\n",
            "    accuracy                           0.96       236\n",
            "   macro avg       0.91      0.91      0.91       236\n",
            "weighted avg       0.96      0.96      0.96       236\n",
            "\n"
          ]
        }
      ],
      "source": [
        "model = SVC(kernel='rbf')\n",
        "\n",
        "params = dict(\n",
        "    C=[0.5, 1, 2, 3, 5, 10, 25, 50],\n",
        "    class_weight=[{0: p, 1: 1-p} for p in np.linspace(0, 1, 20)]\n",
        ")\n",
        "rscv = GridSearchCV(model, params, scoring='f1', n_jobs=-1, verbose=1)\n",
        "rscv.fit(x_train, y_train)\n",
        "preds = rscv.predict(x_test)\n",
        "print(\"\\n\", classification_report(y_test, preds, zero_division=0))"
      ]
    },
    {
      "cell_type": "markdown",
      "metadata": {
        "id": "64lx3-TQ61zj"
      },
      "source": [
        "### MLP"
      ]
    },
    {
      "cell_type": "code",
      "execution_count": null,
      "metadata": {
        "colab": {
          "background_save": true
        },
        "id": "7GZWrdx24WQP",
        "outputId": "25681b05-0d67-41b0-ce8a-baf973fbc811"
      },
      "outputs": [
        {
          "name": "stdout",
          "output_type": "stream",
          "text": [
            "\n",
            "               precision    recall  f1-score   support\n",
            "\n",
            "         0.0       0.97      0.97      0.97       204\n",
            "         1.0       0.79      0.81      0.80        32\n",
            "\n",
            "    accuracy                           0.94       236\n",
            "   macro avg       0.88      0.89      0.88       236\n",
            "weighted avg       0.95      0.94      0.95       236\n",
            "\n"
          ]
        }
      ],
      "source": [
        "nn = MLPClassifier((20, 20), batch_size=32, learning_rate='adaptive')\n",
        "nn.fit(x_train, y_train)\n",
        "preds = nn.predict(x_test)\n",
        "print(\"\\n\", classification_report(y_test, preds, zero_division=0))"
      ]
    },
    {
      "cell_type": "markdown",
      "metadata": {
        "id": "66RKv-hUbqsV"
      },
      "source": [
        "# Revised Train/Test Procedure"
      ]
    },
    {
      "cell_type": "code",
      "execution_count": null,
      "metadata": {
        "id": "TqDXsDO8pF7B"
      },
      "outputs": [],
      "source": [
        "features = data.drop(columns='outcome').copy()\n",
        "target = data['outcome'].copy()"
      ]
    },
    {
      "cell_type": "code",
      "execution_count": null,
      "metadata": {
        "id": "HDlCmZfxjlpY"
      },
      "outputs": [],
      "source": [
        "def make_secondary_features(ebm, x, y):\n",
        "  combined_feature_scores = []\n",
        "  scores = []\n",
        "  ebm_local = ebm.explain_local(x)\n",
        "  for i in range(len(x)):\n",
        "    raw_feature = list(x.iloc[i].to_numpy())\n",
        "    sc = ebm_local.data(key=i)['scores']\n",
        "    \n",
        "    combined_feature_score = raw_feature + sc + [y.iloc[i]]\n",
        "    score = sc + [y.iloc[i]]\n",
        "    \n",
        "    combined_feature_scores.append(combined_feature_score)\n",
        "    scores.append(score)\n",
        "  return np.array(combined_feature_scores), np.array(scores)"
      ]
    },
    {
      "cell_type": "code",
      "execution_count": null,
      "metadata": {
        "id": "QDuj_NDquRJY"
      },
      "outputs": [],
      "source": [
        "def ebm_scorer(y, ypred, **kwargs):\n",
        "    return f1_score(y, ypred.astype(float))\n",
        "\n",
        "def run(model, params, n_trials=20, test_size=0.2):\n",
        "    results = {\n",
        "        'ebm': [],\n",
        "        'bl': [],\n",
        "        'fs': [],\n",
        "        's': [],\n",
        "    }\n",
        "\n",
        "    best_ebm = None\n",
        "    best_model_bl = None\n",
        "    best_model_fs = None\n",
        "    best_model_s = None\n",
        "\n",
        "    for i in range(n_trials):\n",
        "        x_train, x_test, y_train, y_test = train_test_split(features, target, stratify=target, test_size=test_size)\n",
        "        #x_train, x_val, y_train, y_val = train_test_split(x_train, y_train, stratify=y_train, test_size=val_size/(1-test_size))\n",
        "\n",
        "        #x_train, y_train=resample(x_train,y_train) #This is where resampling happens\n",
        "        # EBM fit\n",
        "        #ebm = ExplainableBoostingClassifier(interactions=20, learning_rate=0.01, early_stopping_rounds=100, max_rounds=100000)\n",
        "        if best_ebm is None:\n",
        "            ebm = ExplainableBoostingClassifier() #interactions=20,learning_rate=0.01,early_stopping_rounds=100,max_rounds=100000,random_state=seed)\n",
        "            ebm_params = dict(\n",
        "                interactions = [5, 10, 20],\n",
        "                learning_rate=[0.001, 0.01],\n",
        "                #early_stopping_rounds=[10, 100],\n",
        "                #max_rounds=[1000, 10000, 100000],\n",
        "            )\n",
        "            ebm_rscv = GridSearchCV(ebm, ebm_params, scoring=make_scorer(ebm_scorer), verbose=1)\n",
        "            ebm_rscv.fit(x_train, y_train)\n",
        "            best_ebm = ebm_rscv.best_estimator_\n",
        "            print(ebm_rscv.best_params_)\n",
        "\n",
        "        ebm = sklearn.base.clone(best_ebm)\n",
        "        ebm.fit(x_train, y_train)\n",
        "\n",
        "        # Extract importance scores on train set\n",
        "        combined_feature_scores, scores = make_secondary_features(ebm, x_train, y_train)\n",
        "\n",
        "        # Train secondary models\n",
        "        if best_model_bl is None:\n",
        "            model_bl_rscv = GridSearchCV(sklearn.base.clone(model), params, scoring='f1', n_jobs=-1, verbose=1)\n",
        "            model_bl_rscv.fit(x_train, y_train)\n",
        "            best_model_bl = model_bl_rscv.best_estimator_\n",
        "            print(model_bl_rscv.best_params_)\n",
        "            print(best_model_bl)\n",
        "        model_bl = sklearn.base.clone(best_model_bl)\n",
        "        model_bl.fit(x_train, y_train)\n",
        "\n",
        "        if best_model_fs is None:\n",
        "            model_fs_rscv = GridSearchCV(sklearn.base.clone(model), params, scoring='f1', n_jobs=-1, verbose=1)\n",
        "            model_fs_rscv.fit(combined_feature_scores[:, :-1], combined_feature_scores[:, -1])\n",
        "            best_model_fs = model_fs_rscv.best_estimator_\n",
        "            print(best_model_fs)\n",
        "            print(model_fs_rscv.best_params_)\n",
        "        model_fs = sklearn.base.clone(best_model_fs)\n",
        "        model_fs.fit(combined_feature_scores[:, :-1], combined_feature_scores[:, -1])\n",
        "\n",
        "        if best_model_s is None:\n",
        "            model_s_rscv = GridSearchCV(sklearn.base.clone(model), params, scoring='f1', n_jobs=-1, verbose=1)\n",
        "            model_s_rscv.fit(scores[:, :-1], scores[:, -1])\n",
        "            best_model_s = model_s_rscv.best_estimator_\n",
        "            print(model_s_rscv.best_params_)\n",
        "            print(best_model_s)\n",
        "        model_s = sklearn.base.clone(best_model_s)\n",
        "        model_s.fit(scores[:, :-1], scores[:, -1])\n",
        "\n",
        "        # Evaluate on test\n",
        "        pred_ebm = ebm.predict(x_test).astype(float)\n",
        "\n",
        "        combined_feature_scores, scores = make_secondary_features(ebm, x_test, y_test)\n",
        "\n",
        "        pred_model_bl = model_bl.predict(x_test).astype(float)\n",
        "        pred_model_fs = model_fs.predict(combined_feature_scores[:, :-1]).astype(float)\n",
        "        pred_model_s = model_s.predict(scores[:, :-1]).astype(float)\n",
        "\n",
        "        results['ebm'].append(f1_score(y_test, pred_ebm))\n",
        "        results['bl'].append(f1_score(y_test, pred_model_bl))\n",
        "        results['fs'].append(f1_score(y_test, pred_model_fs))\n",
        "        results['s'].append(f1_score(y_test, pred_model_s))\n",
        "        \n",
        "        if i == 0:\n",
        "            print(\"EBM:\\n\", classification_report(y_test, pred_ebm, zero_division=0))\n",
        "            print(\"Model:\\n\", classification_report(y_test, pred_model_bl, zero_division=0))\n",
        "            print(\"Model F+S:\\n\", classification_report(combined_feature_scores[:, -1], pred_model_fs, zero_division=0))\n",
        "            print(\"Model S:\\n\", classification_report(scores[:, -1], pred_model_s, zero_division=0))\n",
        "\n",
        "    return results"
      ]
    },
    {
      "cell_type": "markdown",
      "metadata": {
        "id": "PxuGEVUVFciV"
      },
      "source": [
        "## EBM"
      ]
    },
    {
      "cell_type": "code",
      "execution_count": null,
      "metadata": {
        "colab": {
          "background_save": true
        },
        "id": "TbsR9lG1Fbqf",
        "outputId": "7059c6ba-ca28-4a3b-cfb5-1a96e28ef974"
      },
      "outputs": [
        {
          "name": "stdout",
          "output_type": "stream",
          "text": [
            "EBM:\n",
            "               precision    recall  f1-score   support\n",
            "\n",
            "         0.0       0.91      0.97      0.94       102\n",
            "         1.0       0.67      0.38      0.48        16\n",
            "\n",
            "    accuracy                           0.89       118\n",
            "   macro avg       0.79      0.67      0.71       118\n",
            "weighted avg       0.88      0.89      0.88       118\n",
            "\n"
          ]
        }
      ],
      "source": [
        "ebm_results = {\n",
        "    'bl': [],\n",
        "}\n",
        "\n",
        "for i in range(20):\n",
        "    # train, val, test split 60/40\n",
        "    x_train, x_test, y_train, y_test = train_test_split(features, target, stratify=target, test_size=0.2)\n",
        "\n",
        "    # EBM fit\n",
        "    ebm = ExplainableBoostingClassifier(interactions=20, learning_rate=0.01, early_stopping_rounds=100, max_rounds=100000)\n",
        "    ebm.fit(x_train, y_train)\n",
        "    pred = ebm.predict(x_test).astype(float)\n",
        "\n",
        "    ebm_results['bl'].append(f1_score(y_test, pred))\n",
        "\n",
        "    if i == 0:\n",
        "        print(\"EBM:\\n\", classification_report(y_test, pred, zero_division=0))\n"
      ]
    },
    {
      "cell_type": "markdown",
      "metadata": {
        "id": "I0Ktlw8pxr5Z"
      },
      "source": [
        "## Decision Tree"
      ]
    },
    {
      "cell_type": "code",
      "execution_count": null,
      "metadata": {
        "colab": {
          "base_uri": "https://localhost:8080/"
        },
        "id": "BozzHlbhxwWV",
        "outputId": "8a6ae3c1-2b56-4d1d-8157-1142d17a8271"
      },
      "outputs": [
        {
          "output_type": "stream",
          "name": "stdout",
          "text": [
            "Fitting 5 folds for each of 6 candidates, totalling 30 fits\n"
          ]
        },
        {
          "output_type": "stream",
          "name": "stderr",
          "text": [
            "\n",
            "1 fits failed out of a total of 30.\n",
            "The score on these train-test partitions for these parameters will be set to nan.\n",
            "If these failures are not expected, you can try to debug them by setting error_score='raise'.\n",
            "\n",
            "Below are more details about the failures:\n",
            "--------------------------------------------------------------------------------\n",
            "1 fits failed with the following error:\n",
            "Traceback (most recent call last):\n",
            "  File \"/usr/local/lib/python3.8/dist-packages/sklearn/model_selection/_validation.py\", line 680, in _fit_and_score\n",
            "    estimator.fit(X_train, y_train, **fit_params)\n",
            "  File \"/usr/local/lib/python3.8/dist-packages/interpret/glassbox/ebm/ebm.py\", line 620, in fit\n",
            "    bagged_ranked_interaction = provider.parallel(_get_ranked_interactions, parallel_args)\n",
            "  File \"/usr/local/lib/python3.8/dist-packages/interpret/provider/compute.py\", line 19, in parallel\n",
            "    results = Parallel(n_jobs=self.n_jobs)(\n",
            "  File \"/usr/local/lib/python3.8/dist-packages/joblib/parallel.py\", line 1088, in __call__\n",
            "    while self.dispatch_one_batch(iterator):\n",
            "  File \"/usr/local/lib/python3.8/dist-packages/joblib/parallel.py\", line 901, in dispatch_one_batch\n",
            "    self._dispatch(tasks)\n",
            "  File \"/usr/local/lib/python3.8/dist-packages/joblib/parallel.py\", line 819, in _dispatch\n",
            "    job = self._backend.apply_async(batch, callback=cb)\n",
            "  File \"/usr/local/lib/python3.8/dist-packages/joblib/_parallel_backends.py\", line 208, in apply_async\n",
            "    result = ImmediateResult(func)\n",
            "  File \"/usr/local/lib/python3.8/dist-packages/joblib/_parallel_backends.py\", line 597, in __init__\n",
            "    self.results = batch()\n",
            "  File \"/usr/local/lib/python3.8/dist-packages/joblib/parallel.py\", line 288, in __call__\n",
            "    return [func(*args, **kwargs)\n",
            "  File \"/usr/local/lib/python3.8/dist-packages/joblib/parallel.py\", line 288, in <listcomp>\n",
            "    return [func(*args, **kwargs)\n",
            "  File \"/usr/local/lib/python3.8/dist-packages/interpret/utils/_interaction.py\", line 35, in _get_ranked_interactions\n",
            "    strength = interaction_detector.calc_interaction_strength(\n",
            "  File \"/usr/local/lib/python3.8/dist-packages/interpret/utils/_native.py\", line 1591, in calc_interaction_strength\n",
            "    raise Native._get_native_exception(return_code, \"CalcInteractionStrength\")\n",
            "Exception: Illegal native parameter value in CalcInteractionStrength\n",
            "\n",
            "One or more of the test scores are non-finite: [0.273899   0.2722861  0.29452245 0.29452245 0.32101181        nan]\n"
          ]
        },
        {
          "output_type": "stream",
          "name": "stdout",
          "text": [
            "{'interactions': 20, 'learning_rate': 0.001}\n",
            "Fitting 5 folds for each of 3 candidates, totalling 15 fits\n",
            "{'max_depth': 20}\n",
            "DecisionTreeClassifier(max_depth=20)\n",
            "Fitting 5 folds for each of 3 candidates, totalling 15 fits\n",
            "DecisionTreeClassifier(max_depth=20)\n",
            "{'max_depth': 20}\n",
            "Fitting 5 folds for each of 3 candidates, totalling 15 fits\n",
            "{'max_depth': 10}\n",
            "DecisionTreeClassifier(max_depth=10)\n",
            "EBM:\n",
            "               precision    recall  f1-score   support\n",
            "\n",
            "         0.0       0.90      0.98      0.94       204\n",
            "         1.0       0.71      0.31      0.43        32\n",
            "\n",
            "    accuracy                           0.89       236\n",
            "   macro avg       0.81      0.65      0.69       236\n",
            "weighted avg       0.88      0.89      0.87       236\n",
            "\n",
            "Model:\n",
            "               precision    recall  f1-score   support\n",
            "\n",
            "         0.0       0.89      0.90      0.89       204\n",
            "         1.0       0.30      0.28      0.29        32\n",
            "\n",
            "    accuracy                           0.81       236\n",
            "   macro avg       0.59      0.59      0.59       236\n",
            "weighted avg       0.81      0.81      0.81       236\n",
            "\n",
            "Model F+S:\n",
            "               precision    recall  f1-score   support\n",
            "\n",
            "         0.0       0.88      0.91      0.89       204\n",
            "         1.0       0.27      0.22      0.24        32\n",
            "\n",
            "    accuracy                           0.81       236\n",
            "   macro avg       0.58      0.56      0.57       236\n",
            "weighted avg       0.80      0.81      0.81       236\n",
            "\n",
            "Model S:\n",
            "               precision    recall  f1-score   support\n",
            "\n",
            "         0.0       0.89      0.91      0.90       204\n",
            "         1.0       0.31      0.25      0.28        32\n",
            "\n",
            "    accuracy                           0.82       236\n",
            "   macro avg       0.60      0.58      0.59       236\n",
            "weighted avg       0.81      0.82      0.81       236\n",
            "\n"
          ]
        }
      ],
      "source": [
        "model = DecisionTreeClassifier()\n",
        "params = dict(\n",
        "    max_depth=[5, 10, 20],\n",
        ")\n",
        "dt_result = run(model, params, test_size=0.2)"
      ]
    },
    {
      "cell_type": "markdown",
      "metadata": {
        "id": "3ulzFlSDxMKu"
      },
      "source": [
        "## RFC"
      ]
    },
    {
      "cell_type": "code",
      "execution_count": null,
      "metadata": {
        "colab": {
          "base_uri": "https://localhost:8080/"
        },
        "id": "x25t39NJxXqG",
        "outputId": "7b9b0d2a-2eb1-404f-d686-f6f88f56ccbc"
      },
      "outputs": [
        {
          "output_type": "stream",
          "name": "stdout",
          "text": [
            "Fitting 5 folds for each of 6 candidates, totalling 30 fits\n",
            "{'interactions': 10, 'learning_rate': 0.01}\n",
            "Fitting 5 folds for each of 27 candidates, totalling 135 fits\n",
            "{'max_depth': 20, 'max_samples': 0.8, 'n_estimators': 25}\n",
            "RandomForestClassifier(max_depth=20, max_samples=0.8, n_estimators=25)\n",
            "Fitting 5 folds for each of 27 candidates, totalling 135 fits\n",
            "RandomForestClassifier(max_depth=10, max_samples=0.9, n_estimators=25)\n",
            "{'max_depth': 10, 'max_samples': 0.9, 'n_estimators': 25}\n",
            "Fitting 5 folds for each of 27 candidates, totalling 135 fits\n",
            "{'max_depth': 20, 'max_samples': 0.7, 'n_estimators': 25}\n",
            "RandomForestClassifier(max_depth=20, max_samples=0.7, n_estimators=25)\n",
            "EBM:\n",
            "               precision    recall  f1-score   support\n",
            "\n",
            "         0.0       0.87      0.99      0.93       204\n",
            "         1.0       0.60      0.09      0.16        32\n",
            "\n",
            "    accuracy                           0.87       236\n",
            "   macro avg       0.74      0.54      0.55       236\n",
            "weighted avg       0.84      0.87      0.82       236\n",
            "\n",
            "Model:\n",
            "               precision    recall  f1-score   support\n",
            "\n",
            "         0.0       0.88      0.99      0.93       204\n",
            "         1.0       0.62      0.16      0.25        32\n",
            "\n",
            "    accuracy                           0.87       236\n",
            "   macro avg       0.75      0.57      0.59       236\n",
            "weighted avg       0.85      0.87      0.84       236\n",
            "\n",
            "Model F+S:\n",
            "               precision    recall  f1-score   support\n",
            "\n",
            "         0.0       0.88      0.99      0.93       204\n",
            "         1.0       0.57      0.12      0.21        32\n",
            "\n",
            "    accuracy                           0.87       236\n",
            "   macro avg       0.72      0.56      0.57       236\n",
            "weighted avg       0.84      0.87      0.83       236\n",
            "\n",
            "Model S:\n",
            "               precision    recall  f1-score   support\n",
            "\n",
            "         0.0       0.87      0.98      0.92       204\n",
            "         1.0       0.43      0.09      0.15        32\n",
            "\n",
            "    accuracy                           0.86       236\n",
            "   macro avg       0.65      0.54      0.54       236\n",
            "weighted avg       0.81      0.86      0.82       236\n",
            "\n"
          ]
        }
      ],
      "source": [
        "model = RandomForestClassifier()\n",
        "params = dict(\n",
        "    n_estimators=[25, 50, 100],\n",
        "    max_depth=[5, 10, 20],\n",
        "    max_samples=[0.7, 0.8, 0.9],\n",
        ")\n",
        "rfc_result = run(model, params, test_size=0.2)"
      ]
    },
    {
      "cell_type": "markdown",
      "metadata": {
        "id": "jYrfUMtSw7ib"
      },
      "source": [
        "## SVM"
      ]
    },
    {
      "cell_type": "code",
      "execution_count": null,
      "metadata": {
        "colab": {
          "base_uri": "https://localhost:8080/"
        },
        "id": "nHCXYSPqw6nh",
        "outputId": "153ea1e9-7585-40d1-b4a9-bcfe4279767a"
      },
      "outputs": [
        {
          "output_type": "stream",
          "name": "stdout",
          "text": [
            "Fitting 5 folds for each of 6 candidates, totalling 30 fits\n",
            "{'interactions': 20, 'learning_rate': 0.001}\n",
            "Fitting 5 folds for each of 160 candidates, totalling 800 fits\n",
            "{'C': 50, 'class_weight': {0: 0.15789473684210525, 1: 0.8421052631578947}}\n",
            "SVC(C=50, class_weight={0: 0.15789473684210525, 1: 0.8421052631578947})\n",
            "Fitting 5 folds for each of 160 candidates, totalling 800 fits\n",
            "SVC(C=50, class_weight={0: 0.15789473684210525, 1: 0.8421052631578947})\n",
            "{'C': 50, 'class_weight': {0: 0.15789473684210525, 1: 0.8421052631578947}}\n",
            "Fitting 5 folds for each of 160 candidates, totalling 800 fits\n",
            "{'C': 3, 'class_weight': {0: 0.21052631578947367, 1: 0.7894736842105263}}\n",
            "SVC(C=3, class_weight={0: 0.21052631578947367, 1: 0.7894736842105263})\n",
            "EBM:\n",
            "               precision    recall  f1-score   support\n",
            "\n",
            "         0.0       0.89      0.99      0.93       204\n",
            "         1.0       0.67      0.19      0.29        32\n",
            "\n",
            "    accuracy                           0.88       236\n",
            "   macro avg       0.78      0.59      0.61       236\n",
            "weighted avg       0.86      0.88      0.85       236\n",
            "\n",
            "Model:\n",
            "               precision    recall  f1-score   support\n",
            "\n",
            "         0.0       0.89      0.82      0.86       204\n",
            "         1.0       0.25      0.38      0.30        32\n",
            "\n",
            "    accuracy                           0.76       236\n",
            "   macro avg       0.57      0.60      0.58       236\n",
            "weighted avg       0.81      0.76      0.78       236\n",
            "\n",
            "Model F+S:\n",
            "               precision    recall  f1-score   support\n",
            "\n",
            "         0.0       0.89      0.82      0.86       204\n",
            "         1.0       0.25      0.38      0.30        32\n",
            "\n",
            "    accuracy                           0.76       236\n",
            "   macro avg       0.57      0.60      0.58       236\n",
            "weighted avg       0.81      0.76      0.78       236\n",
            "\n",
            "Model S:\n",
            "               precision    recall  f1-score   support\n",
            "\n",
            "         0.0       0.92      0.94      0.93       204\n",
            "         1.0       0.54      0.47      0.50        32\n",
            "\n",
            "    accuracy                           0.87       236\n",
            "   macro avg       0.73      0.70      0.71       236\n",
            "weighted avg       0.87      0.87      0.87       236\n",
            "\n"
          ]
        }
      ],
      "source": [
        "model = SVC(kernel='rbf')\n",
        "params = dict(\n",
        "    C=[0.5, 1, 2, 3, 5, 10, 25, 50],\n",
        "    class_weight=[{0: p, 1: 1-p} for p in np.linspace(0, 1, 20)]\n",
        ")\n",
        "#model = GridSearchCV(model, params, scoring='f1', n_jobs=-1, verbose=1)\n",
        "svm_result = run(model, params, test_size=0.2)"
      ]
    },
    {
      "cell_type": "markdown",
      "metadata": {
        "id": "6YqWJ8ZVxeXb"
      },
      "source": [
        "## MLP"
      ]
    },
    {
      "cell_type": "code",
      "execution_count": null,
      "metadata": {
        "colab": {
          "base_uri": "https://localhost:8080/"
        },
        "id": "6Y1abtkZxgJQ",
        "outputId": "a1a8855f-c1db-4d36-efae-67e276483a99"
      },
      "outputs": [
        {
          "output_type": "stream",
          "name": "stdout",
          "text": [
            "Fitting 5 folds for each of 6 candidates, totalling 30 fits\n",
            "{'interactions': 20, 'learning_rate': 0.01}\n",
            "Fitting 5 folds for each of 100 candidates, totalling 500 fits\n",
            "{'hidden_layer_sizes': (46, 51)}\n",
            "MLPClassifier(batch_size=32, hidden_layer_sizes=(46, 51),\n",
            "              learning_rate='adaptive')\n",
            "Fitting 5 folds for each of 100 candidates, totalling 500 fits\n",
            "MLPClassifier(batch_size=32, hidden_layer_sizes=(46, 51),\n",
            "              learning_rate='adaptive')\n",
            "{'hidden_layer_sizes': (46, 51)}\n",
            "Fitting 5 folds for each of 100 candidates, totalling 500 fits\n",
            "{'hidden_layer_sizes': (46, 51)}\n",
            "MLPClassifier(batch_size=32, hidden_layer_sizes=(46, 51),\n",
            "              learning_rate='adaptive')\n",
            "EBM:\n",
            "               precision    recall  f1-score   support\n",
            "\n",
            "         0.0       0.88      0.99      0.93       204\n",
            "         1.0       0.57      0.12      0.21        32\n",
            "\n",
            "    accuracy                           0.87       236\n",
            "   macro avg       0.72      0.56      0.57       236\n",
            "weighted avg       0.84      0.87      0.83       236\n",
            "\n",
            "Model:\n",
            "               precision    recall  f1-score   support\n",
            "\n",
            "         0.0       0.86      1.00      0.93       204\n",
            "         1.0       0.00      0.00      0.00        32\n",
            "\n",
            "    accuracy                           0.86       236\n",
            "   macro avg       0.43      0.50      0.46       236\n",
            "weighted avg       0.75      0.86      0.80       236\n",
            "\n",
            "Model F+S:\n",
            "               precision    recall  f1-score   support\n",
            "\n",
            "         0.0       0.94      0.75      0.84       204\n",
            "         1.0       0.31      0.69      0.42        32\n",
            "\n",
            "    accuracy                           0.75       236\n",
            "   macro avg       0.62      0.72      0.63       236\n",
            "weighted avg       0.85      0.75      0.78       236\n",
            "\n",
            "Model S:\n",
            "               precision    recall  f1-score   support\n",
            "\n",
            "         0.0       0.90      0.94      0.92       204\n",
            "         1.0       0.48      0.34      0.40        32\n",
            "\n",
            "    accuracy                           0.86       236\n",
            "   macro avg       0.69      0.64      0.66       236\n",
            "weighted avg       0.84      0.86      0.85       236\n",
            "\n"
          ]
        }
      ],
      "source": [
        "#model = MLPClassifier((20, 20), batch_size=32, learning_rate='adaptive')\n",
        "model = MLPClassifier(batch_size=32, learning_rate='adaptive')\n",
        "params = dict(\n",
        "    #hidden_layer_sizes=[(ss.randint.rvs(0, 100, 1), ss.randint.rvs(0, 100, 1), ss.randint.rvs(0, 100, 1))] * 100\n",
        "    hidden_layer_sizes=[(ss.randint.rvs(10, 100, 1), ss.randint.rvs(10, 100, 1))] * 100\n",
        ")\n",
        "mlp_result = run(model, params, test_size=0.2)"
      ]
    },
    {
      "cell_type": "code",
      "execution_count": null,
      "metadata": {
        "id": "uIYJ2cVifN_N"
      },
      "outputs": [],
      "source": [
        "import pickle\n",
        "pickle.dump(dt_result, open('drive/MyDrive/dt-nos-8020.pickle', 'wb'))\n",
        "pickle.dump(rfc_result, open('drive/MyDrive/rfc-nos-8020.pickle', 'wb'))\n",
        "pickle.dump(svm_result, open('drive/MyDrive/svm-nos-8020.pickle', 'wb'))\n",
        "pickle.dump(mlp_result, open('drive/MyDrive/mlp-nos-8020.pickle', 'wb'))"
      ]
    },
    {
      "cell_type": "code",
      "execution_count": null,
      "metadata": {
        "id": "EhEybPQBS4cx"
      },
      "outputs": [],
      "source": [
        "import pickle\n",
        "pickle.dump(dt_result, open('drive/MyDrive/dt-8020.pickle', 'wb'))\n",
        "pickle.dump(rfc_result, open('drive/MyDrive/rfc-8020.pickle', 'wb'))\n",
        "pickle.dump(svm_result, open('drive/MyDrive/svm-8020.pickle', 'wb'))\n",
        "pickle.dump(mlp_result, open('drive/MyDrive/mlp-8020.pickle', 'wb'))"
      ]
    },
    {
      "cell_type": "markdown",
      "metadata": {
        "id": "7WvzUdshTSke"
      },
      "source": [
        "## T-Tests"
      ]
    },
    {
      "cell_type": "markdown",
      "metadata": {
        "id": "DuumD0wUU1iT"
      },
      "source": [
        "### No oversampling"
      ]
    },
    {
      "cell_type": "code",
      "execution_count": null,
      "metadata": {
        "id": "T_a8gXSQTWvB"
      },
      "outputs": [],
      "source": [
        "dt_result = pickle.load(open('drive/MyDrive/dt-nos-8020.pickle', 'rb'))\n",
        "rfc_result = pickle.load(open('drive/MyDrive/rfc-nos-8020.pickle', 'rb'))\n",
        "svm_result = pickle.load(open('drive/MyDrive/svm-nos-8020.pickle', 'rb'))\n",
        "mlp_result = pickle.load(open('drive/MyDrive/mlp-nos-8020.pickle', 'rb'))"
      ]
    },
    {
      "cell_type": "code",
      "execution_count": null,
      "metadata": {
        "colab": {
          "base_uri": "https://localhost:8080/"
        },
        "id": "it4pJgygT_Zb",
        "outputId": "dc5b44be-f785-4a0e-d84c-5677c35f6ad9"
      },
      "outputs": [
        {
          "output_type": "stream",
          "name": "stdout",
          "text": [
            "Ttest_indResult(statistic=3.1620030661841314, pvalue=0.0030752955834301367)\n",
            "Ttest_indResult(statistic=1.4121458612404798, pvalue=0.16604433132413401)\n",
            "Ttest_indResult(statistic=0.9180306203528508, pvalue=0.3643932486285665)\n"
          ]
        }
      ],
      "source": [
        "print(ss.ttest_ind(dt_result['ebm'], dt_result['bl']))\n",
        "print(ss.ttest_ind(dt_result['ebm'], dt_result['fs']))\n",
        "print(ss.ttest_ind(dt_result['ebm'], dt_result['s']))"
      ]
    },
    {
      "cell_type": "code",
      "execution_count": null,
      "metadata": {
        "colab": {
          "base_uri": "https://localhost:8080/"
        },
        "id": "XX9C1g_DUW3w",
        "outputId": "45c18ac4-de13-48b2-9a38-dc326e9d62dc"
      },
      "outputs": [
        {
          "output_type": "stream",
          "name": "stdout",
          "text": [
            "Ttest_indResult(statistic=4.850305721491903, pvalue=2.1168242680873638e-05)\n",
            "Ttest_indResult(statistic=2.634755060625422, pvalue=0.012116962138063554)\n",
            "Ttest_indResult(statistic=1.9290285083339818, pvalue=0.06122072335556554)\n"
          ]
        }
      ],
      "source": [
        "print(ss.ttest_ind(rfc_result['ebm'], rfc_result['bl']))\n",
        "print(ss.ttest_ind(rfc_result['ebm'], rfc_result['fs']))\n",
        "print(ss.ttest_ind(rfc_result['ebm'], rfc_result['s']))"
      ]
    },
    {
      "cell_type": "code",
      "execution_count": null,
      "metadata": {
        "colab": {
          "base_uri": "https://localhost:8080/"
        },
        "id": "yvybWZ2eUXh4",
        "outputId": "76178bfb-aa74-4a70-e5f6-127fc67c4875"
      },
      "outputs": [
        {
          "output_type": "stream",
          "name": "stdout",
          "text": [
            "Ttest_indResult(statistic=1.5739749489754322, pvalue=0.12378334373878083)\n",
            "Ttest_indResult(statistic=1.564832746489975, pvalue=0.1259128447389948)\n",
            "Ttest_indResult(statistic=-4.957726135489117, pvalue=1.5149256356378608e-05)\n"
          ]
        }
      ],
      "source": [
        "print(ss.ttest_ind(svm_result['ebm'], svm_result['bl']))\n",
        "print(ss.ttest_ind(svm_result['ebm'], svm_result['fs']))\n",
        "print(ss.ttest_ind(svm_result['ebm'], svm_result['s']))"
      ]
    },
    {
      "cell_type": "code",
      "execution_count": null,
      "metadata": {
        "colab": {
          "base_uri": "https://localhost:8080/"
        },
        "id": "aJGorg0EUX4I",
        "outputId": "ed1e5f04-ede8-49ad-dbf5-c6e7d1917e3f"
      },
      "outputs": [
        {
          "output_type": "stream",
          "name": "stdout",
          "text": [
            "Ttest_indResult(statistic=6.032895358213249, pvalue=5.130940523351465e-07)\n",
            "Ttest_indResult(statistic=4.769913249118865, pvalue=2.7169046475195322e-05)\n",
            "Ttest_indResult(statistic=-3.3933153295154295, pvalue=0.0016266468845107047)\n"
          ]
        }
      ],
      "source": [
        "print(ss.ttest_ind(mlp_result['ebm'], mlp_result['bl']))\n",
        "print(ss.ttest_ind(mlp_result['ebm'], mlp_result['fs']))\n",
        "print(ss.ttest_ind(mlp_result['ebm'], mlp_result['s']))"
      ]
    },
    {
      "cell_type": "markdown",
      "metadata": {
        "id": "lbbJeoexU539"
      },
      "source": [
        "### With oversampling"
      ]
    },
    {
      "cell_type": "code",
      "execution_count": null,
      "metadata": {
        "id": "BWG6jM3rU9F7"
      },
      "outputs": [],
      "source": [
        "dt_result = pickle.load(open('drive/MyDrive/dt-8020.pickle', 'rb'))\n",
        "rfc_result = pickle.load(open('drive/MyDrive/rfc-8020.pickle', 'rb'))\n",
        "svm_result = pickle.load(open('drive/MyDrive/svm-8020.pickle', 'rb'))\n",
        "mlp_result = pickle.load(open('drive/MyDrive/mlp-8020.pickle', 'rb'))"
      ]
    },
    {
      "cell_type": "code",
      "execution_count": null,
      "metadata": {
        "colab": {
          "base_uri": "https://localhost:8080/"
        },
        "id": "ZQiax5yPU9BM",
        "outputId": "1a4ed8ae-c1ee-41af-dc51-5d66eb4111a2"
      },
      "outputs": [
        {
          "output_type": "stream",
          "name": "stdout",
          "text": [
            "Ttest_indResult(statistic=5.726654002629907, pvalue=1.350094859004161e-06)\n",
            "Ttest_indResult(statistic=5.394675192985641, pvalue=3.847934380496201e-06)\n",
            "Ttest_indResult(statistic=6.488819594723694, pvalue=1.2187351777024302e-07)\n"
          ]
        }
      ],
      "source": [
        "print(ss.ttest_ind(dt_result['ebm'], dt_result['bl']))\n",
        "print(ss.ttest_ind(dt_result['ebm'], dt_result['fs']))\n",
        "print(ss.ttest_ind(dt_result['ebm'], dt_result['s']))"
      ]
    },
    {
      "cell_type": "code",
      "execution_count": null,
      "metadata": {
        "colab": {
          "base_uri": "https://localhost:8080/"
        },
        "id": "l5AQGmV-VEDR",
        "outputId": "95927d46-8d99-42b5-87f1-999310c22f9c"
      },
      "outputs": [
        {
          "output_type": "stream",
          "name": "stdout",
          "text": [
            "Ttest_indResult(statistic=2.207004241786425, pvalue=0.033427562368307344)\n",
            "Ttest_indResult(statistic=4.737650632844628, pvalue=3.0024910778210374e-05)\n",
            "Ttest_indResult(statistic=5.493356534812537, pvalue=2.8194741843428533e-06)\n"
          ]
        }
      ],
      "source": [
        "print(ss.ttest_ind(rfc_result['ebm'], rfc_result['bl']))\n",
        "print(ss.ttest_ind(rfc_result['ebm'], rfc_result['fs']))\n",
        "print(ss.ttest_ind(rfc_result['ebm'], rfc_result['s']))"
      ]
    },
    {
      "cell_type": "code",
      "execution_count": null,
      "metadata": {
        "colab": {
          "base_uri": "https://localhost:8080/"
        },
        "id": "knj3uXfHVF8k",
        "outputId": "9fdbe80f-9be8-451c-c75a-fd70a484952d"
      },
      "outputs": [
        {
          "output_type": "stream",
          "name": "stdout",
          "text": [
            "Ttest_indResult(statistic=4.166593205032946, pvalue=0.00017172514608069305)\n",
            "Ttest_indResult(statistic=4.1536588525067275, pvalue=0.00017852461663346892)\n",
            "Ttest_indResult(statistic=0.9787416770499537, pvalue=0.3338979330656191)\n"
          ]
        }
      ],
      "source": [
        "print(ss.ttest_ind(svm_result['ebm'], svm_result['bl']))\n",
        "print(ss.ttest_ind(svm_result['ebm'], svm_result['fs']))\n",
        "print(ss.ttest_ind(svm_result['ebm'], svm_result['s']))"
      ]
    },
    {
      "cell_type": "code",
      "execution_count": null,
      "metadata": {
        "colab": {
          "base_uri": "https://localhost:8080/"
        },
        "id": "f5IOd-I2VH35",
        "outputId": "cae77d67-bf81-4b41-f8b7-fe90faf4c524"
      },
      "outputs": [
        {
          "output_type": "stream",
          "name": "stdout",
          "text": [
            "Ttest_indResult(statistic=2.7803761890179866, pvalue=0.008399456063590974)\n",
            "Ttest_indResult(statistic=1.9881564102304217, pvalue=0.05403329727337227)\n",
            "Ttest_indResult(statistic=0.11255441452388325, pvalue=0.9109763235261841)\n"
          ]
        }
      ],
      "source": [
        "print(ss.ttest_ind(mlp_result['ebm'], mlp_result['bl']))\n",
        "print(ss.ttest_ind(mlp_result['ebm'], mlp_result['fs']))\n",
        "print(ss.ttest_ind(mlp_result['ebm'], mlp_result['s']))"
      ]
    },
    {
      "cell_type": "markdown",
      "metadata": {
        "id": "u2nwHyHuyboC"
      },
      "source": [
        "## Generate plots"
      ]
    },
    {
      "cell_type": "code",
      "execution_count": null,
      "metadata": {
        "colab": {
          "base_uri": "https://localhost:8080/"
        },
        "id": "1JB21yA8VU6o",
        "outputId": "c354ceeb-348c-487d-895d-dd2f72f73821"
      },
      "outputs": [
        {
          "data": {
            "text/plain": [
              "[0.4666666666666667,\n",
              " 0.23076923076923075,\n",
              " 0.2857142857142857,\n",
              " 0.4166666666666667,\n",
              " 0.21428571428571427,\n",
              " 0.38461538461538464,\n",
              " 0.3448275862068966,\n",
              " 0.19047619047619047,\n",
              " 0.28571428571428575,\n",
              " 0.5,\n",
              " 0.34782608695652173,\n",
              " 0.5,\n",
              " 0.38095238095238093,\n",
              " 0.5714285714285715,\n",
              " 0.3076923076923077,\n",
              " 0.2222222222222222,\n",
              " 0.2222222222222222,\n",
              " 0.43478260869565216,\n",
              " 0.4444444444444444,\n",
              " 0.2962962962962963]"
            ]
          },
          "execution_count": 57,
          "metadata": {},
          "output_type": "execute_result"
        }
      ],
      "source": [
        "dt_result.pop('ebm')\n",
        "rfc_result.pop('ebm')\n",
        "svm_result.pop('ebm')\n",
        "mlp_result.pop('ebm')"
      ]
    },
    {
      "cell_type": "code",
      "execution_count": null,
      "metadata": {
        "id": "Wk4BUSLSSz-C"
      },
      "outputs": [],
      "source": [
        "FS_SMALL  = 10\n",
        "FS_MEDIUM = 14\n",
        "FS_LARGE  = 18\n",
        "\n",
        "plt.rc('font', size=FS_SMALL)\n",
        "plt.rc('axes', titlesize=FS_LARGE, labelsize=FS_MEDIUM)\n",
        "plt.rc('xtick', labelsize=FS_MEDIUM)\n",
        "plt.rc('ytick', labelsize=FS_MEDIUM)\n",
        "plt.rc('legend', fontsize=FS_SMALL)\n",
        "plt.rc('figure', titlesize=FS_LARGE)\n",
        "matplotlib.rcParams.update(matplotlib.rcParamsDefault)\n"
      ]
    },
    {
      "cell_type": "code",
      "execution_count": null,
      "metadata": {
        "colab": {
          "base_uri": "https://localhost:8080/",
          "height": 398
        },
        "id": "jHGwzetVNBSY",
        "outputId": "db565491-ef8d-4899-e79c-f1adb341e1f1"
      },
      "outputs": [
        {
          "data": {
            "image/png": "[encoded data removed]",
            "text/plain": [
              "<Figure size 95.76x432 with 1 Axes>"
            ]
          },
          "metadata": {},
          "output_type": "display_data"
        }
      ],
      "source": [
        "fig, ax = plt.subplots(1, 1, figsize=(1.33,6))\n",
        "ax.set_ylim(0, 1)\n",
        "sns.boxplot(data=pd.DataFrame(ebm_results), boxprops={'facecolor':'lightgray'}, ax=ax)\n",
        "ax.set_xticklabels(['Features'])\n",
        "ax.set_title('EBM')\n",
        "ax.set_axisbelow(True)\n",
        "ax.set_ylabel('F1 Score')\n",
        "ax.grid()"
      ]
    },
    {
      "cell_type": "code",
      "source": [
        "fig, ax = plt.subplots(1, 1, figsize=(4,4))\n",
        "ax.set_ylim(0, 0.65)\n",
        "sns.boxplot(data=pd.DataFrame(dt_result), boxprops={'facecolor':'lightgray'}, ax=ax)\n",
        "ax.set_xticklabels(['EBM', 'Features', 'Features\\nw/ Scores', 'Scores'])\n",
        "#ax.set_title('Decision Tree')\n",
        "ax.set_ylabel('F1')\n",
        "ax.set_axisbelow(True)\n",
        "ax.grid()\n",
        "\n",
        "ax2 = ax.twiny()\n",
        "\n",
        "ax2.spines[\"bottom\"].set_position((\"axes\", -0.15))\n",
        "ax2.tick_params('both', length=0, width=0, which='minor')\n",
        "ax2.tick_params('both', direction='in', which='major')\n",
        "ax2.xaxis.set_ticks_position(\"bottom\")\n",
        "ax2.xaxis.set_label_position(\"bottom\")\n",
        "\n",
        "ax2.set_xticks([0.25, 1.0])\n",
        "ax2.spines['bottom'].set_bounds((0.25, 1.0))\n",
        "ax2.xaxis.set_major_formatter(matplotlib.ticker.NullFormatter())\n",
        "ax2.xaxis.set_minor_locator(matplotlib.ticker.FixedLocator([0.6, 0.8]))\n",
        "ax2.xaxis.set_minor_formatter(matplotlib.ticker.FixedFormatter(['Decision Tree']))"
      ],
      "metadata": {
        "colab": {
          "base_uri": "https://localhost:8080/",
          "height": 294
        },
        "id": "I1gJoFplnx3j",
        "outputId": "44de2ec1-3421-429c-eb05-3a81f8f971d6"
      },
      "execution_count": null,
      "outputs": [
        {
          "output_type": "display_data",
          "data": {
            "text/plain": [
              "<Figure size 288x288 with 2 Axes>"
            ],
            "image/png": "[encoded data removed]"
          },
          "metadata": {
            "needs_background": "light"
          }
        }
      ]
    },
    {
      "cell_type": "code",
      "execution_count": null,
      "metadata": {
        "colab": {
          "base_uri": "https://localhost:8080/",
          "height": 294
        },
        "id": "Q3CUoVjwFd-o",
        "outputId": "e33785a5-c261-4ee7-e47c-15a8d39274d6"
      },
      "outputs": [
        {
          "output_type": "display_data",
          "data": {
            "text/plain": [
              "<Figure size 288x288 with 2 Axes>"
            ],
            "image/png": "[encoded data removed]"
          },
          "metadata": {
            "needs_background": "light"
          }
        }
      ],
      "source": [
        "fig, ax = plt.subplots(1, 1, figsize=(4,4))\n",
        "ax.set_ylim(0, 0.65)\n",
        "sns.boxplot(data=pd.DataFrame(rfc_result), boxprops={'facecolor':'lightgray'}, ax=ax)\n",
        "ax.set_xticklabels(['EBM', 'Features', 'Features\\nw/ Scores', 'Scores'])\n",
        "ax.set_ylabel('F1')\n",
        "#ax.set_title('RFC')\n",
        "ax.set_axisbelow(True)\n",
        "ax.grid()\n",
        "\n",
        "ax2 = ax.twiny()\n",
        "\n",
        "ax2.spines[\"bottom\"].set_position((\"axes\", -0.15))\n",
        "ax2.tick_params('both', length=0, width=0, which='minor')\n",
        "ax2.tick_params('both', direction='in', which='major')\n",
        "ax2.xaxis.set_ticks_position(\"bottom\")\n",
        "ax2.xaxis.set_label_position(\"bottom\")\n",
        "\n",
        "ax2.set_xticks([0.25, 1.0])\n",
        "ax2.spines['bottom'].set_bounds((0.25, 1.0))\n",
        "ax2.xaxis.set_major_formatter(matplotlib.ticker.NullFormatter())\n",
        "ax2.xaxis.set_minor_locator(matplotlib.ticker.FixedLocator([0.6, 0.8]))\n",
        "ax2.xaxis.set_minor_formatter(matplotlib.ticker.FixedFormatter(['RFC']))"
      ]
    },
    {
      "cell_type": "code",
      "execution_count": null,
      "metadata": {
        "colab": {
          "base_uri": "https://localhost:8080/",
          "height": 294
        },
        "id": "mxxRwiNoFhTz",
        "outputId": "a508e7a6-fee7-4984-8001-e3c0151b2ccc"
      },
      "outputs": [
        {
          "output_type": "display_data",
          "data": {
            "text/plain": [
              "<Figure size 288x288 with 2 Axes>"
            ],
            "image/png": "[encoded data removed]"
          },
          "metadata": {
            "needs_background": "light"
          }
        }
      ],
      "source": [
        "fig, ax = plt.subplots(1, 1, figsize=(4,4))\n",
        "ax.set_ylim(0, 0.65)\n",
        "sns.boxplot(data=pd.DataFrame(svm_result), boxprops={'facecolor':'lightgray'}, ax=ax)\n",
        "ax.set_xticklabels(['EBM', 'Features', 'Features\\nw/ Scores', 'Scores'])\n",
        "ax.set_ylabel('F1')\n",
        "#ax.set_title('SVM')\n",
        "ax.set_axisbelow(True)\n",
        "ax.grid()\n",
        "\n",
        "ax2 = ax.twiny()\n",
        "\n",
        "ax2.spines[\"bottom\"].set_position((\"axes\", -0.15))\n",
        "ax2.tick_params('both', length=0, width=0, which='minor')\n",
        "ax2.tick_params('both', direction='in', which='major')\n",
        "ax2.xaxis.set_ticks_position(\"bottom\")\n",
        "ax2.xaxis.set_label_position(\"bottom\")\n",
        "\n",
        "ax2.set_xticks([0.25, 1.0])\n",
        "ax2.spines['bottom'].set_bounds((0.25, 1.0))\n",
        "ax2.xaxis.set_major_formatter(matplotlib.ticker.NullFormatter())\n",
        "ax2.xaxis.set_minor_locator(matplotlib.ticker.FixedLocator([0.6, 0.8]))\n",
        "ax2.xaxis.set_minor_formatter(matplotlib.ticker.FixedFormatter(['SVM']))"
      ]
    },
    {
      "cell_type": "code",
      "execution_count": null,
      "metadata": {
        "colab": {
          "base_uri": "https://localhost:8080/",
          "height": 294
        },
        "id": "zRGnxJppFhgz",
        "outputId": "3abf6b57-62a9-47b4-d3b2-41fbd4bfd75a"
      },
      "outputs": [
        {
          "output_type": "display_data",
          "data": {
            "text/plain": [
              "<Figure size 288x288 with 2 Axes>"
            ],
            "image/png": "[encoded data removed]"
          },
          "metadata": {
            "needs_background": "light"
          }
        }
      ],
      "source": [
        "fig, ax = plt.subplots(1, 1, figsize=(4,4))\n",
        "ax.set_ylim(0, 0.65)\n",
        "sns.boxplot(data=pd.DataFrame(mlp_result), boxprops={'facecolor':'lightgray'}, ax=ax)\n",
        "ax.set_xticklabels(['EBM', 'Features', 'Features\\nw/ Scores', 'Scores'])\n",
        "ax.set_ylabel('F1')\n",
        "#ax.set_title('MLP')\n",
        "ax.set_axisbelow(True)\n",
        "ax.grid()\n",
        "\n",
        "ax2 = ax.twiny()\n",
        "\n",
        "ax2.spines[\"bottom\"].set_position((\"axes\", -0.15))\n",
        "ax2.tick_params('both', length=0, width=0, which='minor')\n",
        "ax2.tick_params('both', direction='in', which='major')\n",
        "ax2.xaxis.set_ticks_position(\"bottom\")\n",
        "ax2.xaxis.set_label_position(\"bottom\")\n",
        "\n",
        "ax2.set_xticks([0.25, 1.0])\n",
        "ax2.spines['bottom'].set_bounds((0.25, 1.0))\n",
        "ax2.xaxis.set_major_formatter(matplotlib.ticker.NullFormatter())\n",
        "ax2.xaxis.set_minor_locator(matplotlib.ticker.FixedLocator([0.6, 0.8]))\n",
        "ax2.xaxis.set_minor_formatter(matplotlib.ticker.FixedFormatter(['MLP']))"
      ]
    },
    {
      "cell_type": "code",
      "execution_count": null,
      "metadata": {
        "id": "JpXbdvP_VlGB",
        "colab": {
          "base_uri": "https://localhost:8080/"
        },
        "outputId": "c5df27f2-d555-4fe2-f3f1-7b469e9aa87f"
      },
      "outputs": [
        {
          "output_type": "execute_result",
          "data": {
            "text/plain": [
              "0.34094447327452"
            ]
          },
          "metadata": {},
          "execution_count": 52
        }
      ],
      "source": []
    },
    {
      "cell_type": "code",
      "source": [
        "np.mean(mlp_result['s']) - np.mean(mlp_result['ebm'])"
      ],
      "metadata": {
        "colab": {
          "base_uri": "https://localhost:8080/"
        },
        "id": "M_QZWdqY3dkG",
        "outputId": "165f6eb0-bd6d-4836-89d9-e3b99c6a2435"
      },
      "execution_count": null,
      "outputs": [
        {
          "output_type": "execute_result",
          "data": {
            "text/plain": [
              "0.07499502333507907"
            ]
          },
          "metadata": {},
          "execution_count": 55
        }
      ]
    },
    {
      "cell_type": "code",
      "source": [
        "np.mean(svm_result['s']) - np.mean(svm_result['ebm'])"
      ],
      "metadata": {
        "colab": {
          "base_uri": "https://localhost:8080/"
        },
        "id": "ukBFJUv73gy5",
        "outputId": "90af2cc6-7513-4101-d64b-e2e1792683df"
      },
      "execution_count": null,
      "outputs": [
        {
          "output_type": "execute_result",
          "data": {
            "text/plain": [
              "0.10674580513934595"
            ]
          },
          "metadata": {},
          "execution_count": 56
        }
      ]
    },
    {
      "cell_type": "code",
      "source": [],
      "metadata": {
        "id": "BW_42unu4rrb"
      },
      "execution_count": null,
      "outputs": []
    }
  ],
  "metadata": {
    "colab": {
      "collapsed_sections": [
        "u2nwHyHuyboC"
      ],
      "provenance": [],
      "toc_visible": true
    },
    "kernelspec": {
      "display_name": "Python 3",
      "name": "python3"
    },
    "language_info": {
      "name": "python"
    }
  },
  "nbformat": 4,
  "nbformat_minor": 0
}